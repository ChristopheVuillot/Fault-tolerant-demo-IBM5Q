{
 "cells": [
  {
   "cell_type": "code",
   "execution_count": 1,
   "metadata": {
    "collapsed": false,
    "deletable": true,
    "editable": true
   },
   "outputs": [],
   "source": [
    "import time\n",
    "import random"
   ]
  },
  {
   "cell_type": "markdown",
   "metadata": {
    "deletable": true,
    "editable": true
   },
   "source": [
    "# Demonstration of Fault-tolerance on the IBM 5Q chip\n",
    "\n",
    "###### Contributor : \n",
    "Christophe Vuillot\n",
    "###### Affiliations :\n",
    "JARA Institute for Quantum Information, RWTH Aachen university\n",
    "\n",
    "### Introduction\n",
    "\n",
    "This notebook uses the IBM 5Q chip to demonstrate fault-tolerant behavior of a small quantum error detection code, the [[4,2,2]] code.\n",
    "The idea is to compare some bare circuits on two qubits with their encoded version in the [[4,2,2]] code.\n",
    "The chosen circuits are ones that have some fault-tolerant implementation in the [[4,2,2]] code.\n",
    "In practice, not all are completely fault-tolerant due to the restricted connectivity of the IBM 5Q chip but close enough to show some improvement  !\n",
    "\n",
    "One can prepare |00>, |0+> or |00>+|11> almost fault-tolerantly :\n",
    "The preparation of |00> and |0+> can suffer an undetected X1.X2 error.\n",
    "\n",
    "The gates X1, X2, Z1, Z2 (Pauli matrices), H1.H2.SWAP (two Hadamards and a SWAP) and CZ (controlled phase) can be done fault tolerantly.\n",
    "\n",
    "More detailed information can be found at https://arxiv.org/abs/1610.03507, and 'insert my paper here'."
   ]
  },
  {
   "cell_type": "markdown",
   "metadata": {
    "deletable": true,
    "editable": true
   },
   "source": [
    "### Preparing the circuits\n",
    "In order to fairly compare the encoded implementation to the bare implementation, one has to chose the best two qubits to represent the bare version. The possible pairs are listed below, chose the one with the lowest error rates at the time of doing the experiement."
   ]
  },
  {
   "cell_type": "code",
   "execution_count": 2,
   "metadata": {
    "collapsed": true,
    "deletable": true,
    "editable": true
   },
   "outputs": [],
   "source": [
    "possible_pairs = [[0,1],[0,2],[1,2],[3,2],[3,4],[4,2]]\n",
    "cp = 1 #the chosen pair"
   ]
  },
  {
   "cell_type": "markdown",
   "metadata": {
    "deletable": true,
    "editable": true
   },
   "source": [
    "The file Experiment_tools.py contains one function creating all the qasm code circuits depending on the chosen qubits for the bare version."
   ]
  },
  {
   "cell_type": "code",
   "execution_count": 3,
   "metadata": {
    "collapsed": false,
    "deletable": true,
    "editable": true
   },
   "outputs": [
    {
     "name": "stdout",
     "output_type": "stream",
     "text": [
      "Summary of the circuits that will be tested :\n",
      "\n",
      "input state\t|\tGate sequence\n",
      "--------------------------------------\n",
      "|00>     \t|\tX1 HHS CZ X2\n",
      "|00>     \t|\tHHS Z1 CZ   \n",
      "|00>     \t|\tHHS Z1 Z2   \n",
      "|00>     \t|\tHHS Z2 CZ   \n",
      "|00>+|11>\t|\tZ2 X2       \n",
      "|0+>     \t|\tX1 Z2       \n",
      "|00>     \t|\tHHS Z1      \n",
      "|00>     \t|\tHHS CZ      \n",
      "|00>     \t|\tX1 X2       \n",
      "|00>     \t|\tHHS Z2      \n",
      "|00>+|11>\t|\tX1          \n",
      "|0+>     \t|\tX1          \n",
      "|00>     \t|\tHHS         \n",
      "|00>+|11>\t|\tZ2          \n",
      "|0+>     \t|\tZ2          \n",
      "|00>     \t|\tX1          \n",
      "|00>     \t|\tX2          \n",
      "|00>+|11>\t|\t            \n",
      "|0+>     \t|\t            \n",
      "|00>     \t|\t            \n"
     ]
    }
   ],
   "source": [
    "# Creating the circuits with misc info\n",
    "from tools.Experiment_tools import *\n",
    "all_circuits = create_all_circuits(possible_pairs[cp])\n",
    "\n",
    "# Printing summary\n",
    "template = \"{input_state:9}\\t|\\t{circuit_desc:12}\"\n",
    "print('Summary of the circuits that will be tested :\\n')\n",
    "print(template.format(circuit_desc=\"Gate sequence\", input_state=\"input state\"))\n",
    "print('--------------------------------------')\n",
    "for rec in all_circuits: \n",
    "    print(template.format(**rec))\n",
    "\n",
    "# Creating job batches to be run \n",
    "qasm_batch_bare = [{'qasm':c['qasm_bare']} for c in all_circuits]\n",
    "qasm_batch_encoded = [{'qasm':c['qasm_encoded']} for c in all_circuits]"
   ]
  },
  {
   "cell_type": "markdown",
   "metadata": {
    "deletable": true,
    "editable": true
   },
   "source": [
    "### Connecting to the chip\n",
    "Connecting with the IBM 5Q chip\n",
    "(Needs a correct file Qconfig.py with a correct token for the API, see at https://quantumexperience.ng.bluemix.net)"
   ]
  },
  {
   "cell_type": "code",
   "execution_count": 4,
   "metadata": {
    "collapsed": false,
    "deletable": true,
    "editable": true
   },
   "outputs": [],
   "source": [
    "from IBMQuantumExperience import IBMQuantumExperience\n",
    "import Qconfig\n",
    "api = IBMQuantumExperience.IBMQuantumExperience(Qconfig.APItoken,Qconfig.config)"
   ]
  },
  {
   "cell_type": "markdown",
   "metadata": {
    "deletable": true,
    "editable": true
   },
   "source": [
    "### Running the experiment\n",
    "Configure on which device you want to run the experiment ('real' is advised to do an actual test but it requires credits from the Quantum Experience).\n",
    "Configure also how many runs for each version and how many shots (< 8192) per run."
   ]
  },
  {
   "cell_type": "code",
   "execution_count": 5,
   "metadata": {
    "collapsed": true,
    "deletable": true,
    "editable": true
   },
   "outputs": [],
   "source": [
    "device = 'real'\n",
    "N_bare = 0\n",
    "N_encoded = 0\n",
    "shots = 8192"
   ]
  },
  {
   "cell_type": "code",
   "execution_count": 6,
   "metadata": {
    "collapsed": false,
    "deletable": true,
    "editable": true,
    "scrolled": false
   },
   "outputs": [
    {
     "name": "stdout",
     "output_type": "stream",
     "text": [
      "\n",
      "Bare circuits running... (can take several minutes)\n",
      "\n",
      "Still 0 running...\n",
      "\n",
      "All completed !\n",
      "\n"
     ]
    }
   ],
   "source": [
    "# Running the bare version of the circuits\n",
    "\n",
    "f_bare = open('data/'+device+'_bare_experiment_ids.txt', 'a')\n",
    "\n",
    "# Launching the jobs for the bare circuits onto the chip\n",
    "# The IDs of the jobs together with the index of the chosen pair of qubits\n",
    "# are also stored in the file device_bare_experiment_ids.txt\n",
    "results_bare_list = []\n",
    "for k in range(0,N_bare):\n",
    "    out_tmp = api.run_job(qasm_batch_bare, device = device, shots = shots, max_credits=5)\n",
    "    f_bare.write(out_tmp['id']+','+str(cp)+'\\n')\n",
    "    results_bare_list.append(api.get_job(out_tmp['id']))\n",
    "\n",
    "# Waiting for the jobs to finish\n",
    "i_running = range(0,N_bare)\n",
    "n_running = len(i_running)\n",
    "print('\\nBare circuits running... (can take several minutes)\\n')\n",
    "print('Still '+str(len(i_running))+' running...\\n')\n",
    "while (True in [results_bare_list[k]['status'] == 'RUNNING' for k in i_running]):\n",
    "    i_running = [k for k in i_running if results_bare_list[k]['status'] == 'RUNNING']\n",
    "    if len(i_running)!=n_running:\n",
    "        print('Still '+str(len(i_running))+' running...\\n')\n",
    "        n_running = len(i_running)\n",
    "    time.sleep(3)\n",
    "    for k in i_running:\n",
    "        results_bare_list[k] = api.get_job(results_bare_list[k]['id'])\n",
    "        \n",
    "print('All completed !\\n')\n",
    "f_bare.close()"
   ]
  },
  {
   "cell_type": "code",
   "execution_count": 7,
   "metadata": {
    "collapsed": false,
    "deletable": true,
    "editable": true
   },
   "outputs": [
    {
     "name": "stdout",
     "output_type": "stream",
     "text": [
      "\n",
      "Encoded circuits running... (can take several minutes)\n",
      "\n",
      "Still 0 running...\n",
      "\n",
      "All completed !\n",
      "\n"
     ]
    }
   ],
   "source": [
    "# Running the encoded version of the circuits\n",
    "\n",
    "f_encoded = open('data/'+device+'_encoded_experiment_ids.txt', 'a')\n",
    "\n",
    "\n",
    "# Launching the jobs for the encoded circuits onto the chip\n",
    "# The IDs of the jobs are stored in the file device_encoded_experiment_ids.txt\n",
    "results_encoded_list = []\n",
    "for k in range(0,N_encoded):\n",
    "    out_tmp = api.run_job(qasm_batch_encoded, device = device, shots = shots, max_credits=5)\n",
    "    f_encoded.write(out_tmp['id']+'\\n')\n",
    "    results_encoded_list.append(api.get_job(out_tmp['id']))\n",
    "\n",
    "# Waiting for the jobs to finish\n",
    "i_running = range(0,N_encoded)\n",
    "n_running = len(i_running)\n",
    "print('\\nEncoded circuits running... (can take several minutes)\\n')\n",
    "print('Still '+str(len(i_running))+' running...\\n')\n",
    "while (True in [results_encoded_list[k]['status'] == 'RUNNING' for k in i_running]):\n",
    "    i_running = [k for k in i_running if results_encoded_list[k]['status'] == 'RUNNING']\n",
    "    if len(i_running)!=n_running:\n",
    "        print('Still '+str(len(i_running))+' running...\\n')\n",
    "        n_running = len(i_running)\n",
    "    time.sleep(.1)\n",
    "    for k in i_running:\n",
    "        results_encoded_list[k] = api.get_job(results_encoded_list[k]['id'])\n",
    "        \n",
    "print('All completed !\\n')\n",
    "f_encoded.close()"
   ]
  },
  {
   "cell_type": "markdown",
   "metadata": {
    "collapsed": true,
    "deletable": true,
    "editable": true
   },
   "source": [
    "### Aggregating all the previously ran experiments\n",
    "All the runs are stored using their ids in the files real_bare_experiment_ids.txt and real_encoded_experiment_ids.txt, if you had previously run the circuits their results are also gathered to analyse all the data existing at the same time."
   ]
  },
  {
   "cell_type": "code",
   "execution_count": 8,
   "metadata": {
    "collapsed": false,
    "deletable": true,
    "editable": true
   },
   "outputs": [
    {
     "name": "stdout",
     "output_type": "stream",
     "text": [
      "Fetching all previous experiments for the bare versions of the circuits... (can take minutes)\n",
      "...Done.\n",
      "Fetching all previous experiments for the encoded versions of the circuits...(can take minutes)\n",
      "...Done.\n"
     ]
    }
   ],
   "source": [
    "print('Fetching all previous experiments for the bare versions of the circuits... (can take minutes)')\n",
    "\n",
    "f_bare = open('data/'+device+'_bare_experiment_ids.txt', 'r')\n",
    "\n",
    "results_bare_list = []\n",
    "cps = []\n",
    "for line in f_bare:\n",
    "    id_string, cp_string = line.split(',')\n",
    "    results_bare_list.append(api.get_job(id_string))\n",
    "    cps.append(int(cp_string))\n",
    "\n",
    "f_bare.close()\n",
    "print('...Done.')\n",
    "\n",
    "print('Fetching all previous experiments for the encoded versions of the circuits...(can take minutes)')\n",
    "\n",
    "f_encoded = open('data/'+device+'_encoded_experiment_ids.txt', 'r')\n",
    "\n",
    "results_encoded_list = []\n",
    "for line in f_encoded:\n",
    "    results_encoded_list.append(api.get_job(line.rstrip()))\n",
    "    \n",
    "f_encoded.close()\n",
    "print('...Done.')\n"
   ]
  },
  {
   "cell_type": "markdown",
   "metadata": {
    "deletable": true,
    "editable": true
   },
   "source": [
    "### Analysing the results\n",
    "For each individual circuit and run we analyse the output distribution and can compare it to the expected one."
   ]
  },
  {
   "cell_type": "code",
   "execution_count": 9,
   "metadata": {
    "collapsed": false,
    "deletable": true,
    "editable": true
   },
   "outputs": [],
   "source": [
    "analysed_bare = []\n",
    "analysed_encoded = []\n",
    "\n",
    "for j, res in enumerate(results_bare_list):\n",
    "    analysed_bare.append([])\n",
    "    for k in range(0,20):\n",
    "        analysed_bare[j].append(analysis_one_bare_expe(res['qasms'][k],all_circuits[k],possible_pairs[cps[j]]))\n",
    "\n",
    "for j, res in enumerate(results_encoded_list):\n",
    "    analysed_encoded.append([])\n",
    "    for k in range(0,20):\n",
    "        analysed_encoded[j].append(analysis_one_encoded_expe(res['qasms'][k],all_circuits[k]))"
   ]
  },
  {
   "cell_type": "markdown",
   "metadata": {
    "deletable": true,
    "editable": true
   },
   "source": [
    "We can look at random example from the set of runs, for example for the first circuit : X2 CZ HHS X1 |00>"
   ]
  },
  {
   "cell_type": "code",
   "execution_count": 10,
   "metadata": {
    "collapsed": false,
    "deletable": true,
    "editable": true
   },
   "outputs": [
    {
     "data": {
      "image/png": "[encoded data removed]",
      "text/plain": [
       "<matplotlib.figure.Figure at 0x7f931e384320>"
      ]
     },
     "metadata": {},
     "output_type": "display_data"
    }
   ],
   "source": [
    "plot_one_expe(analysed_bare[random.randrange(len(analysed_bare))][0],analysed_encoded[random.randrange(len(analysed_bare))][0],0.99)"
   ]
  },
  {
   "cell_type": "markdown",
   "metadata": {
    "deletable": true,
    "editable": true
   },
   "source": [
    "We should see that the encoded version is much more evenly distributed whereas the bare version shows suffering from decay errors."
   ]
  },
  {
   "cell_type": "markdown",
   "metadata": {
    "deletable": true,
    "editable": true
   },
   "source": [
    "As another example we can look at the circuit : X1 X2 |00>"
   ]
  },
  {
   "cell_type": "code",
   "execution_count": 11,
   "metadata": {
    "collapsed": false,
    "deletable": true,
    "editable": true
   },
   "outputs": [
    {
     "data": {
      "image/png": "[encoded data removed]",
      "text/plain": [
       "<matplotlib.figure.Figure at 0x7f931d7dc668>"
      ]
     },
     "metadata": {},
     "output_type": "display_data"
    }
   ],
   "source": [
    "plot_one_expe(analysed_bare[random.randrange(len(analysed_bare))][8],analysed_encoded[random.randrange(len(analysed_encoded))][8],0.99)"
   ]
  },
  {
   "cell_type": "markdown",
   "metadata": {
    "deletable": true,
    "editable": true
   },
   "source": [
    "We should see the bare version being much more accurate and note that the most common error for the encoded version is precisely X1.X2."
   ]
  },
  {
   "cell_type": "markdown",
   "metadata": {
    "deletable": true,
    "editable": true
   },
   "source": [
    "### Computing average performances for each circuit\n",
    "We now look at the average performances over all runs for each circuit, comparing the statistical distance of the observed output distribution to the expected one.\n",
    "We show the difference between the statistical distance of the encoded version minus the bare version."
   ]
  },
  {
   "cell_type": "code",
   "execution_count": 12,
   "metadata": {
    "collapsed": false,
    "deletable": true,
    "editable": true
   },
   "outputs": [
    {
     "data": {
      "image/png": "[encoded data removed]",
      "text/plain": [
       "<matplotlib.figure.Figure at 0x7f931e373e10>"
      ]
     },
     "metadata": {},
     "output_type": "display_data"
    }
   ],
   "source": [
    "all_expe = analyse_all_expe(analysed_bare, analysed_encoded, .99)\n",
    "plot_stat_dist(all_expe)"
   ]
  },
  {
   "cell_type": "markdown",
   "metadata": {
    "deletable": true,
    "editable": true
   },
   "source": [
    "### Classifying circuits\n",
    "Finally we can classify the circuits depending on if the encoding actually improve the performances."
   ]
  },
  {
   "cell_type": "markdown",
   "metadata": {
    "deletable": true,
    "editable": true
   },
   "source": [
    "### Circuits better encoded"
   ]
  },
  {
   "cell_type": "code",
   "execution_count": 13,
   "metadata": {
    "collapsed": false,
    "deletable": true,
    "editable": true
   },
   "outputs": [
    {
     "name": "stdout",
     "output_type": "stream",
     "text": [
      "Circuit that are improved when encoded : \n",
      "-----------------------------------------\n",
      "input state\t|\tGate sequence\n",
      "--------------------------------------\n",
      "|00>     \t|\tX1 HHS CZ X2\n",
      "|00>     \t|\tHHS Z1 CZ   \n",
      "|00>     \t|\tHHS Z1 Z2   \n",
      "|00>     \t|\tHHS Z2 CZ   \n",
      "|00>+|11>\t|\tZ2 X2       \n",
      "|00>     \t|\tHHS Z1      \n",
      "|00>     \t|\tHHS CZ      \n",
      "|00>     \t|\tHHS Z2      \n",
      "|00>+|11>\t|\tX1          \n",
      "|00>     \t|\tHHS         \n",
      "|00>+|11>\t|\tZ2          \n",
      "|00>+|11>\t|\t            \n"
     ]
    }
   ],
   "source": [
    "print('Circuit that are improved when encoded : ')\n",
    "print('-----------------------------------------')\n",
    "template = \"{input_state:9}\\t|\\t{circuit_desc:12}\"\n",
    "print(template.format(circuit_desc=\"Gate sequence\", input_state=\"input state\"))\n",
    "print('--------------------------------------')\n",
    "for rec in [c for c in all_expe if c['bare_mean_stat_dist']>c['encoded_mean_stat_dist']]: \n",
    "    print(template.format(**rec))"
   ]
  },
  {
   "cell_type": "markdown",
   "metadata": {
    "deletable": true,
    "editable": true
   },
   "source": [
    "### Circuits better bare"
   ]
  },
  {
   "cell_type": "code",
   "execution_count": 14,
   "metadata": {
    "collapsed": false,
    "deletable": true,
    "editable": true
   },
   "outputs": [
    {
     "name": "stdout",
     "output_type": "stream",
     "text": [
      "\n",
      "\n",
      "Circuit that are better off performed bare : \n",
      "--------------------------------------------\n",
      "input state\t|\tGate sequence\n",
      "--------------------------------------\n",
      "|0+>     \t|\tX1 Z2       \n",
      "|00>     \t|\tX1 X2       \n",
      "|0+>     \t|\tX1          \n",
      "|0+>     \t|\tZ2          \n",
      "|00>     \t|\tX1          \n",
      "|00>     \t|\tX2          \n",
      "|0+>     \t|\t            \n",
      "|00>     \t|\t            \n"
     ]
    }
   ],
   "source": [
    "print('\\n\\nCircuit that are better off performed bare : ')\n",
    "print('--------------------------------------------')\n",
    "template = \"{input_state:9}\\t|\\t{circuit_desc:12}\"\n",
    "print(template.format(circuit_desc=\"Gate sequence\", input_state=\"input state\"))\n",
    "print('--------------------------------------')\n",
    "for rec in [c for c in all_expe if c['bare_mean_stat_dist']<c['encoded_mean_stat_dist']]: \n",
    "    print(template.format(**rec))"
   ]
  },
  {
   "cell_type": "markdown",
   "metadata": {
    "deletable": true,
    "editable": true
   },
   "source": [
    "We can see that the fault-tolerant circuits or the states whose output distribution is unchanged by the eventual X1.X2 errors perform better encoded."
   ]
  }
 ],
 "metadata": {
  "kernelspec": {
   "display_name": "Python 3",
   "language": "python",
   "name": "python3"
  },
  "language_info": {
   "codemirror_mode": {
    "name": "ipython",
    "version": 3
   },
   "file_extension": ".py",
   "mimetype": "text/x-python",
   "name": "python",
   "nbconvert_exporter": "python",
   "pygments_lexer": "ipython3",
   "version": "3.6.0"
  }
 },
 "nbformat": 4,
 "nbformat_minor": 2
}
