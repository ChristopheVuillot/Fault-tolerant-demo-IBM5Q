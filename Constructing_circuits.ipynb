{
 "cells": [
  {
   "cell_type": "code",
   "execution_count": 1,
   "metadata": {
    "collapsed": true,
    "deletable": true,
    "editable": true
   },
   "outputs": [],
   "source": [
    "import time\n",
    "import random\n",
    "import numpy as np"
   ]
  },
  {
   "cell_type": "code",
   "execution_count": 2,
   "metadata": {
    "collapsed": false,
    "deletable": true,
    "editable": true
   },
   "outputs": [],
   "source": [
    "from qiskit import QuantumProgram, QuantumCircuit\n",
    "import Qconfig"
   ]
  },
  {
   "cell_type": "code",
   "execution_count": 3,
   "metadata": {
    "collapsed": false,
    "deletable": true,
    "editable": true
   },
   "outputs": [],
   "source": [
    "qprogram = QuantumProgram()\n",
    "qprogram.set_api(Qconfig.APItoken, Qconfig.config[\"url\"])"
   ]
  },
  {
   "cell_type": "code",
   "execution_count": 4,
   "metadata": {
    "collapsed": false,
    "deletable": true,
    "editable": true
   },
   "outputs": [
    {
     "data": {
      "text/plain": [
       "['ibmqx4',\n",
       " 'ibmqx2',\n",
       " 'ibmqx5',\n",
       " 'ibmqx_qasm_simulator',\n",
       " 'local_qasm_simulator',\n",
       " 'local_unitary_simulator']"
      ]
     },
     "execution_count": 4,
     "metadata": {},
     "output_type": "execute_result"
    }
   ],
   "source": [
    "qprogram.available_backends()"
   ]
  },
  {
   "cell_type": "code",
   "execution_count": 5,
   "metadata": {
    "collapsed": false,
    "deletable": true,
    "editable": true
   },
   "outputs": [
    {
     "data": {
      "text/plain": [
       "{'available': True, 'busy': False, 'pending_jobs': 0}"
      ]
     },
     "execution_count": 5,
     "metadata": {},
     "output_type": "execute_result"
    }
   ],
   "source": [
    "qprogram.get_backend_status(\"ibmqx4\")"
   ]
  },
  {
   "cell_type": "code",
   "execution_count": 6,
   "metadata": {
    "collapsed": false,
    "deletable": true,
    "editable": true
   },
   "outputs": [
    {
     "data": {
      "text/plain": [
       "{'basis_gates': 'SU2+CNOT',\n",
       " 'chip_name': 'Raven',\n",
       " 'coupling_map': [[1, 0], [2, 0], [2, 1], [2, 4], [3, 2], [3, 4]],\n",
       " 'description': '5 qubit transmon bowtie chip 3',\n",
       " 'n_qubits': 5,\n",
       " 'name': 'ibmqx4',\n",
       " 'online_date': '2017-09-18T11:00:00.000Z',\n",
       " 'simulator': False,\n",
       " 'url': 'https://ibm.biz/qiskit-ibmqx4',\n",
       " 'version': '1'}"
      ]
     },
     "execution_count": 6,
     "metadata": {},
     "output_type": "execute_result"
    }
   ],
   "source": [
    "config = qprogram.get_backend_configuration(\"ibmqx4\",list_format=True)\n",
    "config"
   ]
  },
  {
   "cell_type": "code",
   "execution_count": 7,
   "metadata": {
    "collapsed": false,
    "deletable": true,
    "editable": true
   },
   "outputs": [
    {
     "name": "stdout",
     "output_type": "stream",
     "text": [
      "Gate error :\n",
      "------------\n",
      "[0.001545458810288558, 0.0007726307293453583, 0.0012019552727863259, 0.0013737021608475342, 0.002060787371647721]\n",
      "\n",
      "Readout error :\n",
      "---------------\n",
      "[0.035, 0.042, 0.024, 0.055, 0.047]\n",
      "Multi qubit gate error :\n",
      "------------\n",
      "[0.020541297001783476, 0.02887982526689828, 0.025959274240280383, 0.027792418874496655, 0.018784785057407022, 0.030784762253458553]\n"
     ]
    },
    {
     "data": {
      "text/plain": [
       "{'backend': 'ibmqx4',\n",
       " 'last_update_date': '2017-09-28T10:58:00.000Z',\n",
       " 'multi_qubit_gates': [{'gateError': {'date': '2017-09-28T10:58:00Z',\n",
       "    'value': 0.020541297001783476},\n",
       "   'name': 'CX1_0',\n",
       "   'qubits': [1, 0],\n",
       "   'type': 'CX'},\n",
       "  {'gateError': {'date': '2017-09-28T10:58:00Z', 'value': 0.02887982526689828},\n",
       "   'name': 'CX2_0',\n",
       "   'qubits': [2, 0],\n",
       "   'type': 'CX'},\n",
       "  {'gateError': {'date': '2017-09-28T10:58:00Z',\n",
       "    'value': 0.025959274240280383},\n",
       "   'name': 'CX2_1',\n",
       "   'qubits': [2, 1],\n",
       "   'type': 'CX'},\n",
       "  {'gateError': {'date': '2017-09-28T10:58:00Z',\n",
       "    'value': 0.027792418874496655},\n",
       "   'name': 'CX2_4',\n",
       "   'qubits': [2, 4],\n",
       "   'type': 'CX'},\n",
       "  {'gateError': {'date': '2017-09-28T10:58:00Z',\n",
       "    'value': 0.018784785057407022},\n",
       "   'name': 'CX3_2',\n",
       "   'qubits': [3, 2],\n",
       "   'type': 'CX'},\n",
       "  {'gateError': {'date': '2017-09-28T10:58:00Z',\n",
       "    'value': 0.030784762253458553},\n",
       "   'name': 'CX3_4',\n",
       "   'qubits': [3, 4],\n",
       "   'type': 'CX'}],\n",
       " 'qubits': [{'gateError': {'date': '2017-09-28T10:58:00Z',\n",
       "    'value': 0.001545458810288558},\n",
       "   'name': 'Q0',\n",
       "   'readoutError': {'date': '2017-09-28T10:58:00Z', 'value': 0.035}},\n",
       "  {'gateError': {'date': '2017-09-28T10:58:00Z',\n",
       "    'value': 0.0007726307293453583},\n",
       "   'name': 'Q1',\n",
       "   'readoutError': {'date': '2017-09-28T10:58:00Z', 'value': 0.042}},\n",
       "  {'gateError': {'date': '2017-09-28T10:58:00Z',\n",
       "    'value': 0.0012019552727863259},\n",
       "   'name': 'Q2',\n",
       "   'readoutError': {'date': '2017-09-28T10:58:00Z', 'value': 0.024}},\n",
       "  {'gateError': {'date': '2017-09-28T10:58:00Z',\n",
       "    'value': 0.0013737021608475342},\n",
       "   'name': 'Q3',\n",
       "   'readoutError': {'date': '2017-09-28T10:58:00Z', 'value': 0.055}},\n",
       "  {'gateError': {'date': '2017-09-28T10:58:00Z',\n",
       "    'value': 0.002060787371647721},\n",
       "   'name': 'Q4',\n",
       "   'readoutError': {'date': '2017-09-28T10:58:00Z', 'value': 0.047}}]}"
      ]
     },
     "execution_count": 7,
     "metadata": {},
     "output_type": "execute_result"
    }
   ],
   "source": [
    "calib = qprogram.get_backend_calibration(\"ibmqx4\")\n",
    "print('Gate error :\\n------------')\n",
    "print([item['gateError']['value'] for item in calib['qubits']])\n",
    "print('\\nReadout error :\\n---------------')\n",
    "print([item['readoutError']['value'] for item in calib['qubits']])\n",
    "print('Multi qubit gate error :\\n------------')\n",
    "print([item['gateError']['value'] for item in calib['multi_qubit_gates']])\n",
    "calib"
   ]
  },
  {
   "cell_type": "code",
   "execution_count": 8,
   "metadata": {
    "collapsed": false,
    "deletable": true,
    "editable": true
   },
   "outputs": [
    {
     "name": "stdout",
     "output_type": "stream",
     "text": [
      "T1:\n",
      "---\n",
      "[(44.3, 'µs'), (65.9, 'µs'), (32.4, 'µs'), (43, 'µs'), (48.3, 'µs')]\n",
      "\n",
      "T2:\n",
      "---\n",
      "[(42.3, 'µs'), (44.5, 'µs'), (36.1, 'µs'), (54.3, 'µs'), (19, 'µs')]\n"
     ]
    },
    {
     "data": {
      "text/plain": [
       "{'backend': 'ibmqx4',\n",
       " 'fridge_parameters': {'Temperature': {'date': '2017-09-28T10:58:00Z',\n",
       "   'unit': 'K',\n",
       "   'value': 0.021},\n",
       "  'cooldownDate': '2017-09-07'},\n",
       " 'last_update_date': '2017-09-28T10:58:00.000Z',\n",
       " 'qubits': [{'T1': {'date': '2017-09-28T10:58:00Z',\n",
       "    'unit': 'µs',\n",
       "    'value': 44.3},\n",
       "   'T2': {'date': '2017-09-28T10:58:00Z', 'unit': 'µs', 'value': 42.3},\n",
       "   'buffer': {'date': '2017-09-28T10:58:00Z', 'unit': 'ns', 'value': 10},\n",
       "   'frequency': {'date': '2017-09-28T10:58:00Z',\n",
       "    'unit': 'GHz',\n",
       "    'value': 5.24609},\n",
       "   'gateTime': {'date': '2017-09-28T10:58:00Z', 'unit': 'ns', 'value': 50},\n",
       "   'name': 'Q0'},\n",
       "  {'T1': {'date': '2017-09-28T10:58:00Z', 'unit': 'µs', 'value': 65.9},\n",
       "   'T2': {'date': '2017-09-28T10:58:00Z', 'unit': 'µs', 'value': 44.5},\n",
       "   'buffer': {'date': '2017-09-28T10:58:00Z', 'unit': 'ns', 'value': 10},\n",
       "   'frequency': {'date': '2017-09-28T10:58:00Z',\n",
       "    'unit': 'GHz',\n",
       "    'value': 5.30262},\n",
       "   'gateTime': {'date': '2017-09-28T10:58:00Z', 'unit': 'ns', 'value': 50},\n",
       "   'name': 'Q1'},\n",
       "  {'T1': {'date': '2017-09-28T10:58:00Z', 'unit': 'µs', 'value': 32.4},\n",
       "   'T2': {'date': '2017-09-28T10:58:00Z', 'unit': 'µs', 'value': 36.1},\n",
       "   'buffer': {'date': '2017-09-28T10:58:00Z', 'unit': 'ns', 'value': 10},\n",
       "   'frequency': {'date': '2017-09-28T10:58:00Z',\n",
       "    'unit': 'GHz',\n",
       "    'value': 5.3562},\n",
       "   'gateTime': {'date': '2017-09-28T10:58:00Z', 'unit': 'ns', 'value': 50},\n",
       "   'name': 'Q2'},\n",
       "  {'T1': {'date': '2017-09-28T10:58:00Z', 'unit': 'µs', 'value': 43},\n",
       "   'T2': {'date': '2017-09-28T10:58:00Z', 'unit': 'µs', 'value': 54.3},\n",
       "   'buffer': {'date': '2017-09-28T10:58:00Z', 'unit': 'ns', 'value': 10},\n",
       "   'frequency': {'date': '2017-09-28T10:58:00Z',\n",
       "    'unit': 'GHz',\n",
       "    'value': 5.43174},\n",
       "   'gateTime': {'date': '2017-09-28T10:58:00Z', 'unit': 'ns', 'value': 50},\n",
       "   'name': 'Q3'},\n",
       "  {'T1': {'date': '2017-09-28T10:58:00Z', 'unit': 'µs', 'value': 48.3},\n",
       "   'T2': {'date': '2017-09-28T10:58:00Z', 'unit': 'µs', 'value': 19},\n",
       "   'buffer': {'date': '2017-09-28T10:58:00Z', 'unit': 'ns', 'value': 10},\n",
       "   'frequency': {'date': '2017-09-28T10:58:00Z',\n",
       "    'unit': 'GHz',\n",
       "    'value': 5.18244},\n",
       "   'gateTime': {'date': '2017-09-28T10:58:00Z', 'unit': 'ns', 'value': 50},\n",
       "   'name': 'Q4'}]}"
      ]
     },
     "execution_count": 8,
     "metadata": {},
     "output_type": "execute_result"
    }
   ],
   "source": [
    "param = qprogram.get_backend_parameters(\"ibmqx4\")\n",
    "print('T1:\\n---')\n",
    "print([(item['T1']['value'],item['T1']['unit']) for item in param['qubits']])\n",
    "print('\\nT2:\\n---')\n",
    "print([(item['T2']['value'],item['T2']['unit']) for item in param['qubits']])\n",
    "param"
   ]
  },
  {
   "cell_type": "code",
   "execution_count": 9,
   "metadata": {
    "collapsed": true,
    "deletable": true,
    "editable": true
   },
   "outputs": [],
   "source": [
    "# Find a reasonable formula to automatically choose the best two qubits."
   ]
  },
  {
   "cell_type": "code",
   "execution_count": 10,
   "metadata": {
    "collapsed": false,
    "deletable": true,
    "editable": true
   },
   "outputs": [
    {
     "name": "stdout",
     "output_type": "stream",
     "text": [
      "[[1, 0], [2, 0], [2, 1], [2, 4], [3, 2], [3, 4]]\n",
      "[2, 4]\n"
     ]
    }
   ],
   "source": [
    "possible_pairs = config['coupling_map']\n",
    "print(possible_pairs)\n",
    "cp = 3 #the chosen pair\n",
    "print(possible_pairs[cp])"
   ]
  },
  {
   "cell_type": "code",
   "execution_count": 11,
   "metadata": {
    "collapsed": false,
    "deletable": true,
    "editable": true
   },
   "outputs": [],
   "source": [
    "n = config['n_qubits']\n",
    "q = qprogram.create_quantum_register(\"q\",n)\n",
    "c = qprogram.create_classical_register(\"c\",n)"
   ]
  },
  {
   "cell_type": "code",
   "execution_count": 12,
   "metadata": {
    "collapsed": false,
    "deletable": true,
    "editable": true
   },
   "outputs": [
    {
     "data": {
      "text/plain": [
       "<qiskit._measure.Measure at 0x7f71558795c0>"
      ]
     },
     "execution_count": 12,
     "metadata": {},
     "output_type": "execute_result"
    }
   ],
   "source": [
    "qc_FT = qprogram.create_circuit(\"prep_FT\",[q],[c])\n",
    "qc_FT.h(q[2])\n",
    "qc_FT.cx(q[2],q[0])\n",
    "qc_FT.cx(q[2],q[1])\n",
    "qc_FT.h(q[2])\n",
    "qc_FT.h(q[3])\n",
    "qc_FT.cx(q[3],q[2])\n",
    "qc_FT.h(q[2])\n",
    "qc_FT.h(q[3])\n",
    "qc_FT.cx(q[2],q[4])\n",
    "qc_FT.cx(q[2],q[0])\n",
    "qc_FT.measure(q[0],c[0])\n",
    "qc_FT.measure(q[1],c[1])\n",
    "qc_FT.measure(q[2],c[2])\n",
    "qc_FT.measure(q[3],c[3])\n",
    "qc_FT.measure(q[4],c[4])"
   ]
  },
  {
   "cell_type": "code",
   "execution_count": 13,
   "metadata": {
    "collapsed": false,
    "deletable": true,
    "editable": true
   },
   "outputs": [],
   "source": [
    "def swap_circuit(qr,pair,qp):\n",
    "    qcircuitswap = qp.create_circuit(\"SWAP\"+str(pair),[qr],[])\n",
    "    qcircuitswap.cx(qr[pair[0]],qr[pair[1]])\n",
    "    qcircuitswap.h(qr[pair[0]])\n",
    "    qcircuitswap.h(qr[pair[1]])\n",
    "    qcircuitswap.cx(qr[pair[0]],qr[pair[1]])\n",
    "    qcircuitswap.h(qr[pair[0]])\n",
    "    qcircuitswap.h(qr[pair[1]])\n",
    "    qcircuitswap.cx(qr[pair[0]],qr[pair[1]])\n",
    "    return qcircuitswap"
   ]
  },
  {
   "cell_type": "code",
   "execution_count": 14,
   "metadata": {
    "collapsed": false,
    "deletable": true,
    "editable": true
   },
   "outputs": [
    {
     "data": {
      "text/plain": [
       "<qiskit._measure.Measure at 0x7f7154d4f940>"
      ]
     },
     "execution_count": 14,
     "metadata": {},
     "output_type": "execute_result"
    }
   ],
   "source": [
    "qc_NFT = qprogram.create_circuit(\"prep_NFT\",[q],[c])\n",
    "qc_NFT.h(q[3])\n",
    "qc_NFT.cx(q[3],q[4])\n",
    "qc_NFT.cx(q[3],q[2])\n",
    "qc_NFT.cx(q[2],q[1])\n",
    "qc_NFT.measure(q[0],c[0])\n",
    "qc_NFT.measure(q[1],c[1])\n",
    "qc_NFT.measure(q[2],c[2])\n",
    "qc_NFT.measure(q[3],c[3])\n",
    "qc_NFT.measure(q[4],c[4])"
   ]
  },
  {
   "cell_type": "code",
   "execution_count": 15,
   "metadata": {
    "collapsed": false,
    "deletable": true,
    "editable": true
   },
   "outputs": [
    {
     "data": {
      "text/plain": [
       "<qiskit._measure.Measure at 0x7f7154d4f588>"
      ]
     },
     "execution_count": 15,
     "metadata": {},
     "output_type": "execute_result"
    }
   ],
   "source": [
    "qc_NFTold = qprogram.create_circuit(\"prep_NFTold\",[q],[c])\n",
    "qc_NFTold.h(q[2])\n",
    "qc_NFTold.h(q[3])\n",
    "qc_NFTold.cx(q[3],q[4])\n",
    "qc_NFTold.h(q[4])\n",
    "qc_NFTold.cx(q[2],q[4])\n",
    "qc_NFTold.h(q[4])\n",
    "qc_NFTold.extend(swap_circuit(q,[2,1],qprogram))\n",
    "qc_NFTold.cx(q[3],q[2])\n",
    "qc_NFTold.cx(q[2],q[0])\n",
    "qc_NFTold.h(q[0])\n",
    "qc_NFTold.cx(q[1],q[0])\n",
    "qc_NFTold.h(q[0])\n",
    "qc_NFTold.h(q[1])\n",
    "qc_NFTold.measure(q[0],c[0])\n",
    "qc_NFTold.measure(q[1],c[1])\n",
    "qc_NFTold.measure(q[2],c[2])\n",
    "qc_NFTold.measure(q[3],c[3])\n",
    "qc_NFTold.measure(q[4],c[4])"
   ]
  },
  {
   "cell_type": "code",
   "execution_count": 16,
   "metadata": {
    "collapsed": false,
    "deletable": true,
    "editable": true
   },
   "outputs": [
    {
     "data": {
      "text/plain": [
       "<qiskit._measure.Measure at 0x7f7154d4fb70>"
      ]
     },
     "execution_count": 16,
     "metadata": {},
     "output_type": "execute_result"
    }
   ],
   "source": [
    "qc_FTv2 = qprogram.create_circuit(\"prep_FTv2\",[q],[c])\n",
    "qc_FTv2.h(q[3])\n",
    "qc_FTv2.cx(q[3],q[2])\n",
    "qc_FTv2.h(q[2])\n",
    "qc_FTv2.h(q[3])\n",
    "qc_FTv2.cx(q[2],q[1])\n",
    "qc_FTv2.cx(q[3],q[4])\n",
    "qc_FTv2.h(q[4])\n",
    "qc_FTv2.extend(swap_circuit(q,[2,4],qprogram))\n",
    "qc_FTv2.cx(q[2],q[0])\n",
    "qc_FTv2.cx(q[1],q[0])\n",
    "qc_FTv2.h(q[4])\n",
    "qc_FTv2.measure(q[0],c[0])\n",
    "qc_FTv2.measure(q[1],c[1])\n",
    "qc_FTv2.measure(q[2],c[2])\n",
    "qc_FTv2.measure(q[3],c[3])\n",
    "qc_FTv2.measure(q[4],c[4])"
   ]
  },
  {
   "cell_type": "code",
   "execution_count": 17,
   "metadata": {
    "collapsed": false,
    "deletable": true,
    "editable": true
   },
   "outputs": [],
   "source": [
    "def prep_bare_circuit(pair,qprogram, q, c):\n",
    "    qc_ppBare = qprogram.create_circuit(\"prep_Bare - \"+str(pair),[q],[c])\n",
    "    qc_ppBare.measure(q[pair[0]],c[pair[0]])\n",
    "    qc_ppBare.measure(q[pair[1]],c[pair[1]])\n",
    "    return qc_ppBare\n",
    "qc_ppBare = prep_bare_circuit(possible_pairs[cp],qprogram,q,c)"
   ]
  },
  {
   "cell_type": "code",
   "execution_count": 19,
   "metadata": {
    "collapsed": false,
    "deletable": true,
    "editable": true
   },
   "outputs": [],
   "source": [
    "result = qprogram.execute([\"prep_FT\",\"prep_FTv2\",\"prep_NFTold\",\"prep_NFT\",\"prep_Bare - \"+str(possible_pairs[cp])], \"ibmqx4\", shots=8192, max_credits=5, wait=10, timeout=2400)"
   ]
  },
  {
   "cell_type": "code",
   "execution_count": 22,
   "metadata": {
    "collapsed": false,
    "deletable": true,
    "editable": true
   },
   "outputs": [
    {
     "name": "stdout",
     "output_type": "stream",
     "text": [
      "{'10000': 77, '10001': 5, '10010': 16, '10011': 16, '10100': 125, '10101': 32, '10110': 599, '10111': 92, '11000': 23, '11001': 12, '11010': 60, '11011': 50, '11100': 362, '11101': 79, '11110': 1990, '11111': 210, '00000': 3440, '00001': 89, '00010': 69, '00011': 44, '00100': 57, '00101': 28, '00110': 74, '00111': 5, '01000': 175, '01001': 15, '01010': 49, '01011': 60, '01100': 93, '01101': 18, '01110': 200, '01111': 28}\n",
      "{'10000': 954, '10001': 71, '10010': 34, '10011': 233, '10100': 93, '10101': 654, '10110': 57, '10111': 21, '11000': 167, '11001': 197, '11010': 154, '11011': 1446, '11100': 43, '11101': 56, '11110': 199, '11111': 73, '00000': 1373, '00001': 67, '00010': 25, '00011': 145, '00100': 129, '00101': 770, '00110': 49, '00111': 7, '01000': 127, '01001': 104, '01010': 80, '01011': 643, '01100': 23, '01101': 64, '01110': 96, '01111': 38}\n",
      "{'10000': 210, '10001': 1, '10010': 11, '10100': 64, '10110': 246, '10111': 1, '11000': 58, '11001': 3, '11010': 49, '11011': 1, '11100': 274, '11101': 2, '11110': 1943, '11111': 17, '00000': 3763, '00001': 22, '00010': 59, '00100': 61, '00101': 8, '00110': 103, '00111': 2, '01000': 461, '01001': 3, '01010': 26, '01011': 1, '01100': 110, '01101': 1, '01110': 684, '01111': 8}\n",
      "{'10000': 376, '10001': 10, '10010': 181, '10011': 7, '10100': 28, '10101': 45, '10110': 17, '10111': 41, '11000': 259, '11001': 23, '11010': 140, '11011': 17, '11100': 39, '11101': 275, '11110': 46, '11111': 237, '00000': 2513, '00001': 32, '00010': 206, '00011': 23, '00100': 79, '00101': 241, '00110': 37, '00111': 82, '01000': 371, '01001': 95, '01010': 275, '01011': 18, '01100': 193, '01101': 1978, '01110': 104, '01111': 204}\n",
      "{'10011': 10, '10111': 69, '11011': 128, '00011': 1327, '00111': 33, '01011': 6457, '01111': 168}\n"
     ]
    }
   ],
   "source": [
    "print(result.get_counts(\"prep_FT\"))\n",
    "print(result.get_counts(\"prep_FTv2\"))\n",
    "print(result.get_counts(\"prep_NFT\"))\n",
    "print(result.get_counts(\"prep_NFTold\"))\n",
    "print(result.get_counts(\"prep_Bare - \"+str(possible_pairs[cp])))"
   ]
  },
  {
   "cell_type": "code",
   "execution_count": 18,
   "metadata": {
    "collapsed": false,
    "deletable": true,
    "editable": true
   },
   "outputs": [],
   "source": [
    "from qiskit.tools.visualization import plot_state, plot_histogram"
   ]
  },
  {
   "cell_type": "code",
   "execution_count": 32,
   "metadata": {
    "collapsed": false,
    "deletable": true,
    "editable": true
   },
   "outputs": [
    {
     "data": {
      "image/png": "[encoded data removed]",
      "text/plain": [
       "<matplotlib.figure.Figure at 0x7f51bcbaae80>"
      ]
     },
     "metadata": {},
     "output_type": "display_data"
    },
    {
     "data": {
      "image/png": "[encoded data removed]",
      "text/plain": [
       "<matplotlib.figure.Figure at 0x7f51bcbaa278>"
      ]
     },
     "metadata": {},
     "output_type": "display_data"
    },
    {
     "data": {
      "image/png": "[encoded data removed]",
      "text/plain": [
       "<matplotlib.figure.Figure at 0x7f51bcb4eac8>"
      ]
     },
     "metadata": {},
     "output_type": "display_data"
    },
    {
     "data": {
      "image/png": "[encoded data removed]",
      "text/plain": [
       "<matplotlib.figure.Figure at 0x7f51c3696e48>"
      ]
     },
     "metadata": {},
     "output_type": "display_data"
    },
    {
     "data": {
      "image/png": "[encoded data removed]",
      "text/plain": [
       "<matplotlib.figure.Figure at 0x7f51c38e28d0>"
      ]
     },
     "metadata": {},
     "output_type": "display_data"
    }
   ],
   "source": [
    "plot_histogram(result.get_counts(\"prep_FT\"))\n",
    "plot_histogram(result.get_counts(\"prep_FTv2\"))\n",
    "plot_histogram(result.get_counts(\"prep_NFT\"))\n",
    "plot_histogram(result.get_counts(\"prep_NFTold\"))\n",
    "plot_histogram(result.get_counts(\"prep_Bare - \"+str(possible_pairs[cp])))"
   ]
  },
  {
   "cell_type": "code",
   "execution_count": 25,
   "metadata": {
    "collapsed": false,
    "deletable": true,
    "editable": true
   },
   "outputs": [],
   "source": [
    "result.get_ran_qasm(\"prep_Bare\")"
   ]
  },
  {
   "cell_type": "code",
   "execution_count": 23,
   "metadata": {
    "collapsed": false,
    "deletable": true,
    "editable": true
   },
   "outputs": [],
   "source": [
    "def encoded_X1_circuit(mapping, qp):\n",
    "    qrs = [qp.get_quantum_register(qrn) for qrn in qp.get_quantum_register_names()]\n",
    "    crs = [qp.get_classical_register(crn) for crn in qp.get_classical_register_names()]\n",
    "    qcircuit_encoded_X1 = qp.create_circuit(\"encoded_X1\",qrs,crs)\n",
    "    qcircuit_encoded_X1.x(qrs[0][mapping[0]])\n",
    "    qcircuit_encoded_X1.x(qrs[0][mapping[1]])\n",
    "    return qcircuit_encoded_X1\n",
    "def encoded_X2_circuit(qr, mapping, qp):\n",
    "    qcircuit_encoded_X2 = qp.create_circuit(\"encoded_X2\",[qr],[])\n",
    "    qcircuit_encoded_X2.x(qr[mapping[0]])\n",
    "    qcircuit_encoded_X2.x(qr[mapping[2]])\n",
    "    return qcircuit_encoded_X2\n",
    "def encoded_Z1_circuit(qr, mapping, qp):\n",
    "    qcircuit_encoded_Z1 = qp.create_circuit(\"encoded_Z1\",[qr],[])\n",
    "    qcircuit_encoded_Z1.z(qr[mapping[1]])\n",
    "    qcircuit_encoded_Z1.z(qr[mapping[3]])\n",
    "    return qcircuit_encoded_Z1\n",
    "def encoded_Z2_circuit(qr, mapping, qp):\n",
    "    qcircuit_encoded_Z2 = qp.create_circuit(\"encoded_Z2\",[qr],[])\n",
    "    qcircuit_encoded_Z2.z(qr[mapping[2]])\n",
    "    qcircuit_encoded_Z2.z(qr[mapping[3]])\n",
    "    return qcircuit_encoded_Z2\n",
    "def encoded_CZ_circuit(qr, mapping, qp):\n",
    "    qcircuit_encoded_CZ = qp.create_circuit(\"encoded_CZ\",[qr],[])\n",
    "    qcircuit_encoded_CZ.s(qr[mapping[0]])\n",
    "    qcircuit_encoded_CZ.s(qr[mapping[1]])\n",
    "    qcircuit_encoded_CZ.s(qr[mapping[2]])\n",
    "    qcircuit_encoded_CZ.s(qr[mapping[3]])\n",
    "    return qcircuit_encoded_CZ\n",
    "def encoded_HHS_circuit(qr, mapping, qp):\n",
    "    qcircuit_encoded_HHS = qp.create_circuit(\"encoded_HHS\",[qr],[])\n",
    "    qcircuit_encoded_HHS.h(qr[mapping[0]])\n",
    "    qcircuit_encoded_HHS.h(qr[mapping[1]])\n",
    "    qcircuit_encoded_HHS.h(qr[mapping[2]])\n",
    "    qcircuit_encoded_HHS.h(qr[mapping[3]])\n",
    "    return qcircuit_encoded_HHS"
   ]
  },
  {
   "cell_type": "code",
   "execution_count": 120,
   "metadata": {
    "collapsed": false,
    "deletable": true,
    "editable": true
   },
   "outputs": [
    {
     "data": {
      "text/plain": [
       "'OPENQASM 2.0;\\ninclude \"qelib1.inc\";\\nqreg q[5];\\ncreg c[5];\\nx q[0];\\nx q[1];\\n'"
      ]
     },
     "execution_count": 120,
     "metadata": {},
     "output_type": "execute_result"
    }
   ],
   "source": [
    "encoded_X1_circuit([0,1],qprogram).qasm()"
   ]
  },
  {
   "cell_type": "code",
   "execution_count": 28,
   "metadata": {
    "collapsed": false,
    "deletable": true,
    "editable": true
   },
   "outputs": [],
   "source": [
    "#print(qprogram.compile([\"prep_FT\"],backend=\"ibmqx4\")['circuits'][0]['compiled_circuit_qasm'])"
   ]
  },
  {
   "cell_type": "code",
   "execution_count": 30,
   "metadata": {
    "collapsed": false,
    "deletable": true,
    "editable": true
   },
   "outputs": [],
   "source": [
    "import csv\n",
    "\n",
    "with open('mycsvfile5.csv', 'w') as f:  # Just use 'w' mode in 3.x\n",
    "    w = csv.DictWriter(f, result.get_counts(\"prep_FT\").keys())\n",
    "    w.writeheader()\n",
    "    w.writerows([result.get_counts(\"prep_FT\"),result.get_counts(\"prep_FTv2\"),result.get_counts(\"prep_NFT\"),result.get_counts(\"prep_NFTold\"),result.get_counts(\"prep_Bare - \"+str(possible_pairs[cp]))])"
   ]
  },
  {
   "cell_type": "code",
   "execution_count": 31,
   "metadata": {
    "collapsed": false,
    "deletable": true,
    "editable": true
   },
   "outputs": [
    {
     "name": "stdout",
     "output_type": "stream",
     "text": [
      "OPENQASM 2.0;\n",
      "include \"qelib1.inc\";\n",
      "qreg q[5];\n",
      "creg c[5];\n",
      "u2(0.0,3.141592653589793) q[3];\n",
      "u2(0.0,3.141592653589793) q[2];\n",
      "cx q[2],q[0];\n",
      "cx q[2],q[1];\n",
      "u2(0.0,3.141592653589793) q[2];\n",
      "cx q[3],q[2];\n",
      "u2(0.0,3.141592653589793) q[2];\n",
      "cx q[2],q[4];\n",
      "measure q[4] -> c[4];\n",
      "u2(0.0,3.141592653589793) q[3];\n",
      "measure q[3] -> c[3];\n",
      "measure q[1] -> c[1];\n",
      "cx q[2],q[0];\n",
      "measure q[0] -> c[0];\n",
      "measure q[2] -> c[2];\n",
      "\n",
      "\n",
      "OPENQASM 2.0;\n",
      "include \"qelib1.inc\";\n",
      "qreg q[5];\n",
      "creg c[5];\n",
      "u2(0.0,3.141592653589793) q[3];\n",
      "cx q[3],q[2];\n",
      "u2(0.0,3.141592653589793) q[2];\n",
      "u2(0.0,3.141592653589793) q[3];\n",
      "cx q[3],q[4];\n",
      "u2(0.0,3.141592653589793) q[4];\n",
      "measure q[3] -> c[3];\n",
      "cx q[2],q[1];\n",
      "cx q[2],q[4];\n",
      "u2(0.0,3.141592653589793) q[2];\n",
      "u2(0.0,3.141592653589793) q[4];\n",
      "cx q[2],q[4];\n",
      "u2(0.0,3.141592653589793) q[2];\n",
      "u2(0.0,3.141592653589793) q[4];\n",
      "cx q[2],q[4];\n",
      "u2(0.0,3.141592653589793) q[4];\n",
      "measure q[4] -> c[4];\n",
      "cx q[2],q[0];\n",
      "cx q[1],q[0];\n",
      "measure q[0] -> c[0];\n",
      "measure q[1] -> c[1];\n",
      "measure q[2] -> c[2];\n",
      "\n",
      "\n",
      "OPENQASM 2.0;\n",
      "include \"qelib1.inc\";\n",
      "qreg q[5];\n",
      "creg c[5];\n",
      "u2(0.0,3.141592653589793) q[3];\n",
      "cx q[3],q[4];\n",
      "measure q[4] -> c[4];\n",
      "cx q[3],q[2];\n",
      "measure q[3] -> c[3];\n",
      "cx q[2],q[1];\n",
      "measure q[1] -> c[1];\n",
      "measure q[2] -> c[2];\n",
      "measure q[0] -> c[0];\n",
      "\n",
      "\n",
      "OPENQASM 2.0;\n",
      "include \"qelib1.inc\";\n",
      "qreg q[5];\n",
      "creg c[5];\n",
      "u2(0.0,3.141592653589793) q[3];\n",
      "cx q[3],q[4];\n",
      "u2(0.0,3.141592653589793) q[4];\n",
      "u2(0.0,3.141592653589793) q[2];\n",
      "cx q[2],q[4];\n",
      "u2(0.0,3.141592653589793) q[4];\n",
      "measure q[4] -> c[4];\n",
      "cx q[2],q[1];\n",
      "u2(0.0,3.141592653589793) q[2];\n",
      "u2(0.0,3.141592653589793) q[1];\n",
      "cx q[2],q[1];\n",
      "u2(0.0,3.141592653589793) q[2];\n",
      "u2(0.0,3.141592653589793) q[1];\n",
      "cx q[2],q[1];\n",
      "cx q[3],q[2];\n",
      "measure q[3] -> c[3];\n",
      "cx q[2],q[0];\n",
      "u2(0.0,3.141592653589793) q[0];\n",
      "cx q[1],q[0];\n",
      "u2(0.0,3.141592653589793) q[0];\n",
      "measure q[0] -> c[0];\n",
      "u2(0.0,3.141592653589793) q[1];\n",
      "measure q[1] -> c[1];\n",
      "measure q[2] -> c[2];\n",
      "\n",
      "\n"
     ]
    },
    {
     "ename": "TypeError",
     "evalue": "unsupported operand type(s) for +: 'NoneType' and 'str'",
     "output_type": "error",
     "traceback": [
      "\u001b[0;31m---------------------------------------------------------------------------\u001b[0m",
      "\u001b[0;31mTypeError\u001b[0m                                 Traceback (most recent call last)",
      "\u001b[0;32m<ipython-input-31-c888581cc085>\u001b[0m in \u001b[0;36m<module>\u001b[0;34m()\u001b[0m\n\u001b[1;32m      3\u001b[0m \u001b[0mprint\u001b[0m\u001b[0;34m(\u001b[0m\u001b[0mresult\u001b[0m\u001b[0;34m.\u001b[0m\u001b[0mget_ran_qasm\u001b[0m\u001b[0;34m(\u001b[0m\u001b[0;34m\"prep_NFT\"\u001b[0m\u001b[0;34m)\u001b[0m \u001b[0;34m+\u001b[0m \u001b[0;34m'\\n'\u001b[0m\u001b[0;34m)\u001b[0m\u001b[0;34m\u001b[0m\u001b[0m\n\u001b[1;32m      4\u001b[0m \u001b[0mprint\u001b[0m\u001b[0;34m(\u001b[0m\u001b[0mresult\u001b[0m\u001b[0;34m.\u001b[0m\u001b[0mget_ran_qasm\u001b[0m\u001b[0;34m(\u001b[0m\u001b[0;34m\"prep_NFTold\"\u001b[0m\u001b[0;34m)\u001b[0m \u001b[0;34m+\u001b[0m \u001b[0;34m'\\n'\u001b[0m\u001b[0;34m)\u001b[0m\u001b[0;34m\u001b[0m\u001b[0m\n\u001b[0;32m----> 5\u001b[0;31m \u001b[0mprint\u001b[0m\u001b[0;34m(\u001b[0m\u001b[0mresult\u001b[0m\u001b[0;34m.\u001b[0m\u001b[0mget_ran_qasm\u001b[0m\u001b[0;34m(\u001b[0m\u001b[0;34m\"prep_Bare\"\u001b[0m\u001b[0;34m)\u001b[0m \u001b[0;34m+\u001b[0m \u001b[0;34m'\\n'\u001b[0m\u001b[0;34m)\u001b[0m\u001b[0;34m\u001b[0m\u001b[0m\n\u001b[0m",
      "\u001b[0;31mTypeError\u001b[0m: unsupported operand type(s) for +: 'NoneType' and 'str'"
     ]
    }
   ],
   "source": [
    "print(result.get_ran_qasm(\"prep_FT\") + '\\n')\n",
    "print(result.get_ran_qasm(\"prep_FTv2\") + '\\n')\n",
    "print(result.get_ran_qasm(\"prep_NFT\") + '\\n')\n",
    "print(result.get_ran_qasm(\"prep_NFTold\") + '\\n')\n",
    "print(result.get_ran_qasm(\"prep_Bare - \"+str(possible_pairs[cp])) + '\\n')"
   ]
  },
  {
   "cell_type": "code",
   "execution_count": 19,
   "metadata": {
    "collapsed": false,
    "deletable": true,
    "editable": true
   },
   "outputs": [],
   "source": [
    "def convert_rate(rT, rG):\n",
    "    if rT['unit']=='ns':\n",
    "        mT = 10**(-9)\n",
    "    elif rT['unit']=='µs':\n",
    "        mT = 10**(-6)\n",
    "    else:\n",
    "        mT = 1\n",
    "    if rG['unit']=='ns':\n",
    "        mG = 10**(-9)\n",
    "    elif rG['unit']=='µs':\n",
    "        mG = 10**(-6)\n",
    "    else:\n",
    "        mG = 1\n",
    "    return 1-np.exp(-rG['value']*mG/(rT['value']*mT))\n",
    "        \n",
    "\n",
    "def rank_qubit_pairs(qp,backend):\n",
    "    config = qp.get_backend_configuration(backend,list_format=True)\n",
    "    calib = qp.get_backend_calibration(backend)\n",
    "    param = qp.get_backend_parameters(backend)\n",
    "    n = config['n_qubits']\n",
    "    pairs_numbers = dict([(tuple(c),[]) for c in config['coupling_map']])\n",
    "    for p,s in pairs_numbers.items():\n",
    "        s.append(calib['qubits'][p[0]]['gateError']['value'])\n",
    "        s.append(calib['qubits'][p[0]]['readoutError']['value'])\n",
    "        s.append(calib['qubits'][p[1]]['gateError']['value'])\n",
    "        s.append(calib['qubits'][p[1]]['readoutError']['value'])\n",
    "        for r in calib['multi_qubit_gates']:\n",
    "            if r['qubits']==list(p):\n",
    "                s.append(r['gateError']['value'])\n",
    "        s.append(convert_rate(param['qubits'][p[0]]['T1'],param['qubits'][p[0]]['gateTime']))\n",
    "        s.append(convert_rate(param['qubits'][p[0]]['T2'],param['qubits'][p[0]]['gateTime']))\n",
    "        s.append(convert_rate(param['qubits'][p[1]]['T1'],param['qubits'][p[1]]['gateTime']))\n",
    "        s.append(convert_rate(param['qubits'][p[1]]['T2'],param['qubits'][p[1]]['gateTime']))\n",
    "    for p,s in pairs_numbers.items():\n",
    "        pairs_numbers[p] = sorted(s,reverse=True)\n",
    "    return (sorted(pairs_numbers,key=pairs_numbers.__getitem__),pairs_numbers)\n",
    "\n",
    "        \n",
    "        \n",
    "    \n",
    "    \n",
    "    \n",
    "    \n",
    "\n",
    "\n",
    "    "
   ]
  },
  {
   "cell_type": "code",
   "execution_count": 20,
   "metadata": {
    "collapsed": false,
    "deletable": true,
    "editable": true
   },
   "outputs": [],
   "source": [
    "(sorted_pairs,pairs_dict) = rank_qubit_pairs(qprogram,\"ibmqx4\")"
   ]
  },
  {
   "cell_type": "code",
   "execution_count": 21,
   "metadata": {
    "collapsed": false
   },
   "outputs": [
    {
     "data": {
      "text/plain": [
       "[(2, 0), (2, 1), (1, 0), (2, 4), (3, 2), (3, 4)]"
      ]
     },
     "execution_count": 21,
     "metadata": {},
     "output_type": "execute_result"
    }
   ],
   "source": [
    "sorted_pairs"
   ]
  },
  {
   "cell_type": "code",
   "execution_count": 42,
   "metadata": {
    "collapsed": false,
    "deletable": true,
    "editable": true
   },
   "outputs": [],
   "source": [
    "bare_programs_list = []\n",
    "bare_program_names_list = []\n",
    "for p in sorted_pairs:\n",
    "    bare_programs_list.append(prep_bare_circuit(p,qprogram,q,c))\n",
    "    bare_program_names_list.append(\"prep_Bare - \"+str(p))\n"
   ]
  },
  {
   "cell_type": "code",
   "execution_count": 43,
   "metadata": {
    "collapsed": false,
    "deletable": true,
    "editable": true
   },
   "outputs": [
    {
     "data": {
      "text/plain": [
       "['prep_Bare - (2, 4)',\n",
       " 'prep_Bare - (2, 1)',\n",
       " 'prep_Bare - (2, 0)',\n",
       " 'prep_Bare - (1, 0)',\n",
       " 'prep_Bare - (3, 2)',\n",
       " 'prep_Bare - (3, 4)']"
      ]
     },
     "execution_count": 43,
     "metadata": {},
     "output_type": "execute_result"
    }
   ],
   "source": [
    "bare_program_names_list"
   ]
  },
  {
   "cell_type": "code",
   "execution_count": 44,
   "metadata": {
    "collapsed": true,
    "deletable": true,
    "editable": true
   },
   "outputs": [],
   "source": [
    "result_bare = qprogram.execute(bare_program_names_list, \"ibmqx4\", shots=8192, max_credits=5, wait=10, timeout=2400)"
   ]
  },
  {
   "cell_type": "code",
   "execution_count": 75,
   "metadata": {
    "collapsed": false,
    "deletable": true,
    "editable": true
   },
   "outputs": [],
   "source": [
    "with open('mycsvfile_bare2.csv', 'w') as f:  # Just use 'w' mode in 3.x\n",
    "    w = csv.DictWriter(f, [('{0:0'+str(n)+'b}').format(j) for j in range(0,2**n)])\n",
    "    w.writeheader()\n",
    "    w.writerows([result_bare.get_counts(name) for name in bare_program_names_list])"
   ]
  },
  {
   "cell_type": "code",
   "execution_count": null,
   "metadata": {
    "collapsed": false,
    "deletable": true,
    "editable": true
   },
   "outputs": [],
   "source": []
  },
  {
   "cell_type": "code",
   "execution_count": 74,
   "metadata": {
    "collapsed": false,
    "deletable": true,
    "editable": true
   },
   "outputs": [
    {
     "data": {
      "text/plain": [
       "['00000',\n",
       " '00001',\n",
       " '00010',\n",
       " '00011',\n",
       " '00100',\n",
       " '00101',\n",
       " '00110',\n",
       " '00111',\n",
       " '01000',\n",
       " '01001',\n",
       " '01010',\n",
       " '01011',\n",
       " '01100',\n",
       " '01101',\n",
       " '01110',\n",
       " '01111',\n",
       " '10000',\n",
       " '10001',\n",
       " '10010',\n",
       " '10011',\n",
       " '10100',\n",
       " '10101',\n",
       " '10110',\n",
       " '10111',\n",
       " '11000',\n",
       " '11001',\n",
       " '11010',\n",
       " '11011',\n",
       " '11100',\n",
       " '11101',\n",
       " '11110',\n",
       " '11111']"
      ]
     },
     "execution_count": 74,
     "metadata": {},
     "output_type": "execute_result"
    }
   ],
   "source": [
    "[('{0:0'+str(n)+'b}').format(j) for j in range(0,2**n)]"
   ]
  },
  {
   "cell_type": "code",
   "execution_count": 77,
   "metadata": {
    "collapsed": false,
    "deletable": true,
    "editable": true
   },
   "outputs": [
    {
     "data": {
      "text/plain": [
       "dict_keys(['prep_FT', 'prep_NFT', 'prep_NFTold', 'SWAP[2, 1]', 'prep_FTv2', 'SWAP[2, 4]', 'prep_Bare - [2, 4]', 'prep_Bare - (2, 4)', 'prep_Bare - (2, 1)', 'prep_Bare - (2, 0)', 'prep_Bare - (1, 0)', 'prep_Bare - (3, 2)', 'prep_Bare - (3, 4)'])"
      ]
     },
     "execution_count": 77,
     "metadata": {},
     "output_type": "execute_result"
    }
   ],
   "source": [
    "qprogram.get_circuit_names()"
   ]
  },
  {
   "cell_type": "code",
   "execution_count": 99,
   "metadata": {
    "collapsed": false,
    "deletable": true,
    "editable": true
   },
   "outputs": [],
   "source": [
    "qcircuit = QuantumCircuit(q,c)"
   ]
  },
  {
   "cell_type": "code",
   "execution_count": 100,
   "metadata": {
    "collapsed": false,
    "deletable": true,
    "editable": true
   },
   "outputs": [
    {
     "data": {
      "text/plain": [
       "{'c': <qiskit._classicalregister.ClassicalRegister at 0x7f51c43b0978>}"
      ]
     },
     "execution_count": 100,
     "metadata": {},
     "output_type": "execute_result"
    }
   ],
   "source": [
    "qcircuit.get_cregs()"
   ]
  },
  {
   "cell_type": "code",
   "execution_count": 101,
   "metadata": {
    "collapsed": false,
    "deletable": true,
    "editable": true
   },
   "outputs": [
    {
     "data": {
      "text/plain": [
       "<qiskit.extensions.standard.x.XGate at 0x7f51bcc8dd30>"
      ]
     },
     "execution_count": 101,
     "metadata": {},
     "output_type": "execute_result"
    }
   ],
   "source": [
    "qcircuit.x(q[0])"
   ]
  },
  {
   "cell_type": "code",
   "execution_count": 102,
   "metadata": {
    "collapsed": false,
    "deletable": true,
    "editable": true
   },
   "outputs": [
    {
     "data": {
      "text/plain": [
       "'OPENQASM 2.0;\\ninclude \"qelib1.inc\";\\nqreg q[5];\\ncreg c[5];\\nx q[0];\\n'"
      ]
     },
     "execution_count": 102,
     "metadata": {},
     "output_type": "execute_result"
    }
   ],
   "source": [
    "qcircuit.qasm()"
   ]
  },
  {
   "cell_type": "code",
   "execution_count": 103,
   "metadata": {
    "collapsed": false,
    "deletable": true,
    "editable": true
   },
   "outputs": [
    {
     "data": {
      "text/plain": [
       "<qiskit._quantumcircuit.QuantumCircuit at 0x7f51c311dba8>"
      ]
     },
     "execution_count": 103,
     "metadata": {},
     "output_type": "execute_result"
    }
   ],
   "source": [
    "qcircuit.extend(qc_FT)"
   ]
  },
  {
   "cell_type": "code",
   "execution_count": 112,
   "metadata": {
    "collapsed": false,
    "deletable": true,
    "editable": true
   },
   "outputs": [
    {
     "data": {
      "text/plain": [
       "'c'"
      ]
     },
     "execution_count": 112,
     "metadata": {},
     "output_type": "execute_result"
    }
   ],
   "source": [
    "list(qprogram.get_classical_register_names())[0]"
   ]
  },
  {
   "cell_type": "code",
   "execution_count": 27,
   "metadata": {
    "collapsed": true,
    "deletable": true,
    "editable": true
   },
   "outputs": [],
   "source": [
    "testcircuit = qprogram.create_circuit(\"test_circuit\",[q],[c])"
   ]
  },
  {
   "cell_type": "code",
   "execution_count": 28,
   "metadata": {
    "collapsed": false
   },
   "outputs": [
    {
     "data": {
      "text/plain": [
       "<qiskit._measure.Measure at 0x7f2e4a42e278>"
      ]
     },
     "execution_count": 28,
     "metadata": {},
     "output_type": "execute_result"
    }
   ],
   "source": [
    "testcircuit.measure(q[0],c[0])\n",
    "testcircuit.reset(q[0])\n",
    "testcircuit.x(q[0])\n",
    "testcircuit.measure(q[0],c[1])"
   ]
  },
  {
   "cell_type": "code",
   "execution_count": 29,
   "metadata": {
    "collapsed": false
   },
   "outputs": [
    {
     "name": "stdout",
     "output_type": "stream",
     "text": [
      "OPENQASM 2.0;\n",
      "include \"qelib1.inc\";\n",
      "qreg q[16];\n",
      "creg c[16];\n",
      "measure q[0] -> c[0];\n",
      "reset q[0];\n",
      "x q[0];\n",
      "measure q[0] -> c[1];\n",
      "\n"
     ]
    }
   ],
   "source": [
    "print(testcircuit.qasm())"
   ]
  },
  {
   "cell_type": "code",
   "execution_count": 25,
   "metadata": {
    "collapsed": false
   },
   "outputs": [
    {
     "name": "stderr",
     "output_type": "stream",
     "text": [
      "WARNING:IBMQuantumExperience.IBMQuantumExperience:Got a 400 code response to https://quantumexperience.ng.bluemix.net/api/Jobs?access_token=jG1K1UBk2T4486XpEq1J6Dz4HcQuMV7OqpBEAyJhsv6GpdNnayjAGxDH8JZzBRZf: {\"error\":{\"status\":400,\"message\":\"Error parsing QASM. Error parsing qasm number 0. Operations are disabled\",\"code\":\"QASM_NOT_VALID\"}}\n"
     ]
    },
    {
     "ename": "TypeError",
     "evalue": "list indices must be integers or slices, not str",
     "output_type": "error",
     "traceback": [
      "\u001b[0;31m---------------------------------------------------------------------------\u001b[0m",
      "\u001b[0;31mTypeError\u001b[0m                                 Traceback (most recent call last)",
      "\u001b[0;32m<ipython-input-25-d93786528947>\u001b[0m in \u001b[0;36m<module>\u001b[0;34m()\u001b[0m\n\u001b[0;32m----> 1\u001b[0;31m \u001b[0mtestresult\u001b[0m \u001b[0;34m=\u001b[0m \u001b[0mqprogram\u001b[0m\u001b[0;34m.\u001b[0m\u001b[0mexecute\u001b[0m\u001b[0;34m(\u001b[0m\u001b[0;34m[\u001b[0m\u001b[0;34m'test_circuit'\u001b[0m\u001b[0;34m]\u001b[0m\u001b[0;34m,\u001b[0m\u001b[0;34m\"ibmqx5\"\u001b[0m\u001b[0;34m,\u001b[0m \u001b[0mshots\u001b[0m\u001b[0;34m=\u001b[0m\u001b[0;36m8192\u001b[0m\u001b[0;34m,\u001b[0m \u001b[0mmax_credits\u001b[0m\u001b[0;34m=\u001b[0m\u001b[0;36m5\u001b[0m\u001b[0;34m,\u001b[0m \u001b[0mwait\u001b[0m\u001b[0;34m=\u001b[0m\u001b[0;36m10\u001b[0m\u001b[0;34m,\u001b[0m \u001b[0mtimeout\u001b[0m\u001b[0;34m=\u001b[0m\u001b[0;36m2400\u001b[0m\u001b[0;34m)\u001b[0m\u001b[0;34m\u001b[0m\u001b[0m\n\u001b[0m",
      "\u001b[0;32m/usr/lib/python3.6/site-packages/qiskit/_quantumprogram.py\u001b[0m in \u001b[0;36mexecute\u001b[0;34m(self, name_of_circuits, backend, config, wait, timeout, silent, basis_gates, coupling_map, initial_layout, shots, max_credits, seed)\u001b[0m\n\u001b[1;32m   1146\u001b[0m                             \u001b[0minitial_layout\u001b[0m\u001b[0;34m=\u001b[0m\u001b[0minitial_layout\u001b[0m\u001b[0;34m,\u001b[0m \u001b[0mshots\u001b[0m\u001b[0;34m=\u001b[0m\u001b[0mshots\u001b[0m\u001b[0;34m,\u001b[0m\u001b[0;34m\u001b[0m\u001b[0m\n\u001b[1;32m   1147\u001b[0m                             max_credits=max_credits, seed=seed)\n\u001b[0;32m-> 1148\u001b[0;31m         \u001b[0mresult\u001b[0m \u001b[0;34m=\u001b[0m \u001b[0mself\u001b[0m\u001b[0;34m.\u001b[0m\u001b[0mrun\u001b[0m\u001b[0;34m(\u001b[0m\u001b[0mqobj\u001b[0m\u001b[0;34m,\u001b[0m \u001b[0mwait\u001b[0m\u001b[0;34m=\u001b[0m\u001b[0mwait\u001b[0m\u001b[0;34m,\u001b[0m \u001b[0mtimeout\u001b[0m\u001b[0;34m=\u001b[0m\u001b[0mtimeout\u001b[0m\u001b[0;34m,\u001b[0m \u001b[0msilent\u001b[0m\u001b[0;34m=\u001b[0m\u001b[0msilent\u001b[0m\u001b[0;34m)\u001b[0m\u001b[0;34m\u001b[0m\u001b[0m\n\u001b[0m\u001b[1;32m   1149\u001b[0m         \u001b[0;32mreturn\u001b[0m \u001b[0mresult\u001b[0m\u001b[0;34m\u001b[0m\u001b[0m\n\u001b[1;32m   1150\u001b[0m \u001b[0;34m\u001b[0m\u001b[0m\n",
      "\u001b[0;32m/usr/lib/python3.6/site-packages/qiskit/_quantumprogram.py\u001b[0m in \u001b[0;36mrun\u001b[0;34m(self, qobj, wait, timeout, silent)\u001b[0m\n\u001b[1;32m    992\u001b[0m             \u001b[0;32mif\u001b[0m \u001b[0;34m'error'\u001b[0m \u001b[0;32min\u001b[0m \u001b[0moutput\u001b[0m\u001b[0;34m:\u001b[0m\u001b[0;34m\u001b[0m\u001b[0m\n\u001b[1;32m    993\u001b[0m                 \u001b[0;32mraise\u001b[0m \u001b[0mResultError\u001b[0m\u001b[0;34m(\u001b[0m\u001b[0moutput\u001b[0m\u001b[0;34m[\u001b[0m\u001b[0;34m'error'\u001b[0m\u001b[0;34m]\u001b[0m\u001b[0;34m)\u001b[0m\u001b[0;34m\u001b[0m\u001b[0m\n\u001b[0;32m--> 994\u001b[0;31m             qobj_result = self._wait_for_job(output['id'], wait=wait,\n\u001b[0m\u001b[1;32m    995\u001b[0m                                              timeout=timeout, silent=silent)\n\u001b[1;32m    996\u001b[0m         \u001b[0;32melse\u001b[0m\u001b[0;34m:\u001b[0m\u001b[0;34m\u001b[0m\u001b[0m\n",
      "\u001b[0;31mTypeError\u001b[0m: list indices must be integers or slices, not str"
     ]
    }
   ],
   "source": [
    "testresult = qprogram.execute([\"test_circuit\"],\"ibmqx5\", shots=8192, max_credits=5, wait=10, timeout=2400)"
   ]
  },
  {
   "cell_type": "code",
   "execution_count": 30,
   "metadata": {
    "collapsed": false
   },
   "outputs": [
    {
     "data": {
      "text/plain": [
       "dict_keys(['test_circuit'])"
      ]
     },
     "execution_count": 30,
     "metadata": {},
     "output_type": "execute_result"
    }
   ],
   "source": [
    "qprogram.get_circuit_names()"
   ]
  },
  {
   "cell_type": "code",
   "execution_count": 27,
   "metadata": {
    "collapsed": false
   },
   "outputs": [],
   "source": [
    "lcircuit = [encoded_CZ_circuit,encoded_HHS_circuit,encoded_X1_circuit,encoded_X2_circuit,encoded_Z1_circuit,encoded_Z2_circuit]\n",
    "dcircuit = {'ECZ' : encoded_CZ_circuit, 'EHHS' : encoded_HHS_circuit, 'EX1' : encoded_X1_circuit, 'EX2' : encoded_X2_circuit, 'EZ1' : encoded_Z1_circuit, 'EZ2' : encoded_Z2_circuit}"
   ]
  },
  {
   "cell_type": "code",
   "execution_count": 28,
   "metadata": {
    "collapsed": false
   },
   "outputs": [
    {
     "data": {
      "text/plain": [
       "'OPENQASM 2.0;\\ninclude \"qelib1.inc\";\\nqreg q[5];\\ncreg c[5];\\nx q[1];\\nx q[2];\\n'"
      ]
     },
     "execution_count": 28,
     "metadata": {},
     "output_type": "execute_result"
    }
   ],
   "source": [
    "dcircuit['EX1']([1,2,3,4],qprogram).qasm()"
   ]
  },
  {
   "cell_type": "code",
   "execution_count": null,
   "metadata": {
    "collapsed": true
   },
   "outputs": [],
   "source": []
  }
 ],
 "metadata": {
  "kernelspec": {
   "display_name": "Python 3",
   "language": "python",
   "name": "python3"
  },
  "language_info": {
   "codemirror_mode": {
    "name": "ipython",
    "version": 3
   },
   "file_extension": ".py",
   "mimetype": "text/x-python",
   "name": "python",
   "nbconvert_exporter": "python",
   "pygments_lexer": "ipython3",
   "version": "3.6.2"
  }
 },
 "nbformat": 4,
 "nbformat_minor": 2
}
