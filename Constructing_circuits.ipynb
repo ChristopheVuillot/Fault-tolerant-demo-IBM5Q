{
 "cells": [
  {
   "cell_type": "code",
   "execution_count": 14,
   "metadata": {
    "collapsed": true,
    "deletable": true,
    "editable": true
   },
   "outputs": [],
   "source": [
    "import time\n",
    "import random\n",
    "import numpy as np\n",
    "import importlib"
   ]
  },
  {
   "cell_type": "code",
   "execution_count": 2,
   "metadata": {
    "collapsed": false,
    "deletable": true,
    "editable": true
   },
   "outputs": [],
   "source": [
    "from qiskit import QuantumProgram, QuantumCircuit\n",
    "import Qconfig"
   ]
  },
  {
   "cell_type": "code",
   "execution_count": 21,
   "metadata": {
    "collapsed": false
   },
   "outputs": [
    {
     "data": {
      "text/plain": [
       "<module 'tools.Experiment_tools' from '/home/christophe/Work/Programming/IBMQE/Fault-tolerant-demo-IBM5Q/tools/Experiment_tools.py'>"
      ]
     },
     "execution_count": 21,
     "metadata": {},
     "output_type": "execute_result"
    }
   ],
   "source": [
    "import tools.Experiment_tools as exptool\n",
    "importlib.reload(exptool)"
   ]
  },
  {
   "cell_type": "code",
   "execution_count": 4,
   "metadata": {
    "collapsed": false,
    "deletable": true,
    "editable": true
   },
   "outputs": [],
   "source": [
    "qprogram = QuantumProgram()\n",
    "qprogram.set_api(Qconfig.APItoken, Qconfig.config[\"url\"])"
   ]
  },
  {
   "cell_type": "code",
   "execution_count": 5,
   "metadata": {
    "collapsed": false,
    "deletable": true,
    "editable": true
   },
   "outputs": [
    {
     "data": {
      "text/plain": [
       "['ibmqx4',\n",
       " 'ibmqx2',\n",
       " 'ibmqx5',\n",
       " 'ibmqx_qasm_simulator',\n",
       " 'local_qasm_simulator',\n",
       " 'local_unitary_simulator']"
      ]
     },
     "execution_count": 5,
     "metadata": {},
     "output_type": "execute_result"
    }
   ],
   "source": [
    "qprogram.available_backends()"
   ]
  },
  {
   "cell_type": "code",
   "execution_count": 6,
   "metadata": {
    "collapsed": false,
    "deletable": true,
    "editable": true
   },
   "outputs": [
    {
     "data": {
      "text/plain": [
       "{'available': True, 'busy': False, 'pending_jobs': 0}"
      ]
     },
     "execution_count": 6,
     "metadata": {},
     "output_type": "execute_result"
    }
   ],
   "source": [
    "qprogram.get_backend_status(\"ibmqx4\")"
   ]
  },
  {
   "cell_type": "code",
   "execution_count": 7,
   "metadata": {
    "collapsed": false,
    "deletable": true,
    "editable": true
   },
   "outputs": [
    {
     "data": {
      "text/plain": [
       "{'basis_gates': 'SU2+CNOT',\n",
       " 'chip_name': 'Raven',\n",
       " 'coupling_map': [[1, 0], [2, 0], [2, 1], [2, 4], [3, 2], [3, 4]],\n",
       " 'description': '5 qubit transmon bowtie chip 3',\n",
       " 'n_qubits': 5,\n",
       " 'name': 'ibmqx4',\n",
       " 'online_date': '2017-09-18T11:00:00.000Z',\n",
       " 'simulator': False,\n",
       " 'url': 'https://ibm.biz/qiskit-ibmqx4',\n",
       " 'version': '1'}"
      ]
     },
     "execution_count": 7,
     "metadata": {},
     "output_type": "execute_result"
    }
   ],
   "source": [
    "config = qprogram.get_backend_configuration(\"ibmqx4\",list_format=True)\n",
    "config"
   ]
  },
  {
   "cell_type": "code",
   "execution_count": 8,
   "metadata": {
    "collapsed": true
   },
   "outputs": [],
   "source": [
    "n = config['n_qubits']\n",
    "q = qprogram.create_quantum_register(\"q\",n)\n",
    "c = qprogram.create_classical_register(\"c\",n)"
   ]
  },
  {
   "cell_type": "code",
   "execution_count": 22,
   "metadata": {
    "collapsed": false
   },
   "outputs": [
    {
     "data": {
      "text/plain": [
       "['bX2-CZ-HHS-X1|00>[1, 0]',\n",
       " 'bX2-CZ-HHS-X1|00>[2, 0]',\n",
       " 'bX2-CZ-HHS-X1|00>[2, 1]',\n",
       " 'bX2-CZ-HHS-X1|00>[2, 4]',\n",
       " 'bX2-CZ-HHS-X1|00>[3, 2]',\n",
       " 'bX2-CZ-HHS-X1|00>[3, 4]',\n",
       " 'eX2-CZ-HHS-X1|00>FTv1',\n",
       " 'eX2-CZ-HHS-X1|00>FTv2',\n",
       " 'eX2-CZ-HHS-X1|00>NFTv1',\n",
       " 'eX2-CZ-HHS-X1|00>NFTv2',\n",
       " 'bCZ-Z1-HHS|00>[1, 0]',\n",
       " 'bCZ-Z1-HHS|00>[2, 0]',\n",
       " 'bCZ-Z1-HHS|00>[2, 1]',\n",
       " 'bCZ-Z1-HHS|00>[2, 4]',\n",
       " 'bCZ-Z1-HHS|00>[3, 2]',\n",
       " 'bCZ-Z1-HHS|00>[3, 4]',\n",
       " 'eCZ-Z1-HHS|00>FTv1',\n",
       " 'eCZ-Z1-HHS|00>FTv2',\n",
       " 'eCZ-Z1-HHS|00>NFTv1',\n",
       " 'eCZ-Z1-HHS|00>NFTv2',\n",
       " 'bZ2-Z1-HHS|00>[1, 0]',\n",
       " 'bZ2-Z1-HHS|00>[2, 0]',\n",
       " 'bZ2-Z1-HHS|00>[2, 1]',\n",
       " 'bZ2-Z1-HHS|00>[2, 4]',\n",
       " 'bZ2-Z1-HHS|00>[3, 2]',\n",
       " 'bZ2-Z1-HHS|00>[3, 4]',\n",
       " 'eZ2-Z1-HHS|00>FTv1',\n",
       " 'eZ2-Z1-HHS|00>FTv2',\n",
       " 'eZ2-Z1-HHS|00>NFTv1',\n",
       " 'eZ2-Z1-HHS|00>NFTv2',\n",
       " 'bCZ-Z2-HHS|00>[1, 0]',\n",
       " 'bCZ-Z2-HHS|00>[2, 0]',\n",
       " 'bCZ-Z2-HHS|00>[2, 1]',\n",
       " 'bCZ-Z2-HHS|00>[2, 4]',\n",
       " 'bCZ-Z2-HHS|00>[3, 2]',\n",
       " 'bCZ-Z2-HHS|00>[3, 4]',\n",
       " 'eCZ-Z2-HHS|00>FTv1',\n",
       " 'eCZ-Z2-HHS|00>FTv2',\n",
       " 'eCZ-Z2-HHS|00>NFTv1',\n",
       " 'eCZ-Z2-HHS|00>NFTv2',\n",
       " 'bX2-Z2|00>+|11>[1, 0]',\n",
       " 'bX2-Z2|00>+|11>[2, 0]',\n",
       " 'bX2-Z2|00>+|11>[2, 1]',\n",
       " 'bX2-Z2|00>+|11>[2, 4]',\n",
       " 'bX2-Z2|00>+|11>[3, 2]',\n",
       " 'bX2-Z2|00>+|11>[3, 4]',\n",
       " 'eX2-Z2|00>+|11>',\n",
       " 'bZ2-X1|0+>[1, 0]',\n",
       " 'bZ2-X1|0+>[2, 0]',\n",
       " 'bZ2-X1|0+>[2, 1]',\n",
       " 'bZ2-X1|0+>[2, 4]',\n",
       " 'bZ2-X1|0+>[3, 2]',\n",
       " 'bZ2-X1|0+>[3, 4]',\n",
       " 'eZ2-X1|0+>',\n",
       " 'bZ1-HHS|00>[1, 0]',\n",
       " 'bZ1-HHS|00>[2, 0]',\n",
       " 'bZ1-HHS|00>[2, 1]',\n",
       " 'bZ1-HHS|00>[2, 4]',\n",
       " 'bZ1-HHS|00>[3, 2]',\n",
       " 'bZ1-HHS|00>[3, 4]',\n",
       " 'eZ1-HHS|00>FTv1',\n",
       " 'eZ1-HHS|00>FTv2',\n",
       " 'eZ1-HHS|00>NFTv1',\n",
       " 'eZ1-HHS|00>NFTv2',\n",
       " 'bCZ-HHS|00>[1, 0]',\n",
       " 'bCZ-HHS|00>[2, 0]',\n",
       " 'bCZ-HHS|00>[2, 1]',\n",
       " 'bCZ-HHS|00>[2, 4]',\n",
       " 'bCZ-HHS|00>[3, 2]',\n",
       " 'bCZ-HHS|00>[3, 4]',\n",
       " 'eCZ-HHS|00>FTv1',\n",
       " 'eCZ-HHS|00>FTv2',\n",
       " 'eCZ-HHS|00>NFTv1',\n",
       " 'eCZ-HHS|00>NFTv2',\n",
       " 'bX2-X1|00>[1, 0]',\n",
       " 'bX2-X1|00>[2, 0]',\n",
       " 'bX2-X1|00>[2, 1]',\n",
       " 'bX2-X1|00>[2, 4]',\n",
       " 'bX2-X1|00>[3, 2]',\n",
       " 'bX2-X1|00>[3, 4]',\n",
       " 'eX2-X1|00>FTv1',\n",
       " 'eX2-X1|00>FTv2',\n",
       " 'eX2-X1|00>NFTv1',\n",
       " 'eX2-X1|00>NFTv2',\n",
       " 'bZ2-HHS|00>[1, 0]',\n",
       " 'bZ2-HHS|00>[2, 0]',\n",
       " 'bZ2-HHS|00>[2, 1]',\n",
       " 'bZ2-HHS|00>[2, 4]',\n",
       " 'bZ2-HHS|00>[3, 2]',\n",
       " 'bZ2-HHS|00>[3, 4]',\n",
       " 'eZ2-HHS|00>FTv1',\n",
       " 'eZ2-HHS|00>FTv2',\n",
       " 'eZ2-HHS|00>NFTv1',\n",
       " 'eZ2-HHS|00>NFTv2',\n",
       " 'bX1|00>+|11>[1, 0]',\n",
       " 'bX1|00>+|11>[2, 0]',\n",
       " 'bX1|00>+|11>[2, 1]',\n",
       " 'bX1|00>+|11>[2, 4]',\n",
       " 'bX1|00>+|11>[3, 2]',\n",
       " 'bX1|00>+|11>[3, 4]',\n",
       " 'eX1|00>+|11>',\n",
       " 'bX1|0+>[1, 0]',\n",
       " 'bX1|0+>[2, 0]',\n",
       " 'bX1|0+>[2, 1]',\n",
       " 'bX1|0+>[2, 4]',\n",
       " 'bX1|0+>[3, 2]',\n",
       " 'bX1|0+>[3, 4]',\n",
       " 'eX1|0+>',\n",
       " 'bHHS|00>[1, 0]',\n",
       " 'bHHS|00>[2, 0]',\n",
       " 'bHHS|00>[2, 1]',\n",
       " 'bHHS|00>[2, 4]',\n",
       " 'bHHS|00>[3, 2]',\n",
       " 'bHHS|00>[3, 4]',\n",
       " 'eHHS|00>FTv1',\n",
       " 'eHHS|00>FTv2',\n",
       " 'eHHS|00>NFTv1',\n",
       " 'eHHS|00>NFTv2',\n",
       " 'bZ2|00>+|11>[1, 0]',\n",
       " 'bZ2|00>+|11>[2, 0]',\n",
       " 'bZ2|00>+|11>[2, 1]',\n",
       " 'bZ2|00>+|11>[2, 4]',\n",
       " 'bZ2|00>+|11>[3, 2]',\n",
       " 'bZ2|00>+|11>[3, 4]',\n",
       " 'eZ2|00>+|11>',\n",
       " 'bZ2|0+>[1, 0]',\n",
       " 'bZ2|0+>[2, 0]',\n",
       " 'bZ2|0+>[2, 1]',\n",
       " 'bZ2|0+>[2, 4]',\n",
       " 'bZ2|0+>[3, 2]',\n",
       " 'bZ2|0+>[3, 4]',\n",
       " 'eZ2|0+>',\n",
       " 'bX1|00>[1, 0]',\n",
       " 'bX1|00>[2, 0]',\n",
       " 'bX1|00>[2, 1]',\n",
       " 'bX1|00>[2, 4]',\n",
       " 'bX1|00>[3, 2]',\n",
       " 'bX1|00>[3, 4]',\n",
       " 'eX1|00>FTv1',\n",
       " 'eX1|00>FTv2',\n",
       " 'eX1|00>NFTv1',\n",
       " 'eX1|00>NFTv2',\n",
       " 'bX2|00>[1, 0]',\n",
       " 'bX2|00>[2, 0]',\n",
       " 'bX2|00>[2, 1]',\n",
       " 'bX2|00>[2, 4]',\n",
       " 'bX2|00>[3, 2]',\n",
       " 'bX2|00>[3, 4]',\n",
       " 'eX2|00>FTv1',\n",
       " 'eX2|00>FTv2',\n",
       " 'eX2|00>NFTv1',\n",
       " 'eX2|00>NFTv2',\n",
       " 'b|00>+|11>[1, 0]',\n",
       " 'b|00>+|11>[2, 0]',\n",
       " 'b|00>+|11>[2, 1]',\n",
       " 'b|00>+|11>[2, 4]',\n",
       " 'b|00>+|11>[3, 2]',\n",
       " 'b|00>+|11>[3, 4]',\n",
       " 'e|00>+|11>',\n",
       " 'b|0+>[1, 0]',\n",
       " 'b|0+>[2, 0]',\n",
       " 'b|0+>[2, 1]',\n",
       " 'b|0+>[2, 4]',\n",
       " 'b|0+>[3, 2]',\n",
       " 'b|0+>[3, 4]',\n",
       " 'e|0+>',\n",
       " 'b|00>[1, 0]',\n",
       " 'b|00>[2, 0]',\n",
       " 'b|00>[2, 1]',\n",
       " 'b|00>[2, 4]',\n",
       " 'b|00>[3, 2]',\n",
       " 'b|00>[3, 4]',\n",
       " 'e|00>FTv1',\n",
       " 'e|00>FTv2',\n",
       " 'e|00>NFTv1',\n",
       " 'e|00>NFTv2']"
      ]
     },
     "execution_count": 22,
     "metadata": {},
     "output_type": "execute_result"
    }
   ],
   "source": [
    "circuit_names = exptool.all_circuits(qprogram,config['coupling_map'])\n",
    "circuit_names"
   ]
  },
  {
   "cell_type": "code",
   "execution_count": null,
   "metadata": {
    "collapsed": false
   },
   "outputs": [],
   "source": []
  },
  {
   "cell_type": "code",
   "execution_count": null,
   "metadata": {
    "collapsed": false,
    "deletable": true,
    "editable": true
   },
   "outputs": [],
   "source": [
    "calib = qprogram.get_backend_calibration(\"ibmqx4\")\n",
    "print('Gate error :\\n------------')\n",
    "print([item['gateError']['value'] for item in calib['qubits']])\n",
    "print('\\nReadout error :\\n---------------')\n",
    "print([item['readoutError']['value'] for item in calib['qubits']])\n",
    "print('Multi qubit gate error :\\n------------')\n",
    "print([item['gateError']['value'] for item in calib['multi_qubit_gates']])\n",
    "calib"
   ]
  },
  {
   "cell_type": "code",
   "execution_count": null,
   "metadata": {
    "collapsed": false,
    "deletable": true,
    "editable": true
   },
   "outputs": [],
   "source": [
    "param = qprogram.get_backend_parameters(\"ibmqx4\")\n",
    "print('T1:\\n---')\n",
    "print([(item['T1']['value'],item['T1']['unit']) for item in param['qubits']])\n",
    "print('\\nT2:\\n---')\n",
    "print([(item['T2']['value'],item['T2']['unit']) for item in param['qubits']])\n",
    "param"
   ]
  },
  {
   "cell_type": "code",
   "execution_count": null,
   "metadata": {
    "collapsed": true,
    "deletable": true,
    "editable": true
   },
   "outputs": [],
   "source": [
    "# Find a reasonable formula to automatically choose the best two qubits."
   ]
  },
  {
   "cell_type": "code",
   "execution_count": null,
   "metadata": {
    "collapsed": false,
    "deletable": true,
    "editable": true
   },
   "outputs": [],
   "source": [
    "possible_pairs = config['coupling_map']\n",
    "print(possible_pairs)\n",
    "cp = 3 #the chosen pair\n",
    "print(possible_pairs[cp])"
   ]
  },
  {
   "cell_type": "code",
   "execution_count": null,
   "metadata": {
    "collapsed": false,
    "deletable": true,
    "editable": true
   },
   "outputs": [],
   "source": [
    "n = config['n_qubits']\n",
    "q = qprogram.create_quantum_register(\"q\",n)\n",
    "c = qprogram.create_classical_register(\"c\",n)"
   ]
  },
  {
   "cell_type": "code",
   "execution_count": null,
   "metadata": {
    "collapsed": false,
    "deletable": true,
    "editable": true
   },
   "outputs": [],
   "source": [
    "qc_FT = qprogram.create_circuit(\"prep_FT\",[q],[c])\n",
    "qc_FT.h(q[2])\n",
    "qc_FT.cx(q[2],q[0])\n",
    "qc_FT.cx(q[2],q[1])\n",
    "qc_FT.h(q[2])\n",
    "qc_FT.h(q[3])\n",
    "qc_FT.cx(q[3],q[2])\n",
    "qc_FT.h(q[2])\n",
    "qc_FT.h(q[3])\n",
    "qc_FT.cx(q[2],q[4])\n",
    "qc_FT.cx(q[2],q[0])\n",
    "qc_FT.measure(q[0],c[0])\n",
    "qc_FT.measure(q[1],c[1])\n",
    "qc_FT.measure(q[2],c[2])\n",
    "qc_FT.measure(q[3],c[3])\n",
    "qc_FT.measure(q[4],c[4])"
   ]
  },
  {
   "cell_type": "code",
   "execution_count": null,
   "metadata": {
    "collapsed": false,
    "deletable": true,
    "editable": true
   },
   "outputs": [],
   "source": [
    "def swap_circuit(qr,pair,qp):\n",
    "    qcircuitswap = qp.create_circuit(\"SWAP\"+str(pair),[qr],[])\n",
    "    qcircuitswap.cx(qr[pair[0]],qr[pair[1]])\n",
    "    qcircuitswap.h(qr[pair[0]])\n",
    "    qcircuitswap.h(qr[pair[1]])\n",
    "    qcircuitswap.cx(qr[pair[0]],qr[pair[1]])\n",
    "    qcircuitswap.h(qr[pair[0]])\n",
    "    qcircuitswap.h(qr[pair[1]])\n",
    "    qcircuitswap.cx(qr[pair[0]],qr[pair[1]])\n",
    "    return qcircuitswap"
   ]
  },
  {
   "cell_type": "code",
   "execution_count": null,
   "metadata": {
    "collapsed": false,
    "deletable": true,
    "editable": true
   },
   "outputs": [],
   "source": [
    "qc_NFT = qprogram.create_circuit(\"prep_NFT\",[q],[c])\n",
    "qc_NFT.h(q[3])\n",
    "qc_NFT.cx(q[3],q[4])\n",
    "qc_NFT.cx(q[3],q[2])\n",
    "qc_NFT.cx(q[2],q[1])\n",
    "qc_NFT.measure(q[0],c[0])\n",
    "qc_NFT.measure(q[1],c[1])\n",
    "qc_NFT.measure(q[2],c[2])\n",
    "qc_NFT.measure(q[3],c[3])\n",
    "qc_NFT.measure(q[4],c[4])"
   ]
  },
  {
   "cell_type": "code",
   "execution_count": null,
   "metadata": {
    "collapsed": false,
    "deletable": true,
    "editable": true
   },
   "outputs": [],
   "source": [
    "qc_NFTold = qprogram.create_circuit(\"prep_NFTold\",[q],[c])\n",
    "qc_NFTold.h(q[2])\n",
    "qc_NFTold.h(q[3])\n",
    "qc_NFTold.cx(q[3],q[4])\n",
    "qc_NFTold.h(q[4])\n",
    "qc_NFTold.cx(q[2],q[4])\n",
    "qc_NFTold.h(q[4])\n",
    "qc_NFTold.extend(swap_circuit(q,[2,1],qprogram))\n",
    "qc_NFTold.cx(q[3],q[2])\n",
    "qc_NFTold.cx(q[2],q[0])\n",
    "qc_NFTold.h(q[0])\n",
    "qc_NFTold.cx(q[1],q[0])\n",
    "qc_NFTold.h(q[0])\n",
    "qc_NFTold.h(q[1])\n",
    "qc_NFTold.measure(q[0],c[0])\n",
    "qc_NFTold.measure(q[1],c[1])\n",
    "qc_NFTold.measure(q[2],c[2])\n",
    "qc_NFTold.measure(q[3],c[3])\n",
    "qc_NFTold.measure(q[4],c[4])"
   ]
  },
  {
   "cell_type": "code",
   "execution_count": null,
   "metadata": {
    "collapsed": false,
    "deletable": true,
    "editable": true
   },
   "outputs": [],
   "source": [
    "qc_FTv2 = qprogram.create_circuit(\"prep_FTv2\",[q],[c])\n",
    "qc_FTv2.h(q[3])\n",
    "qc_FTv2.cx(q[3],q[2])\n",
    "qc_FTv2.h(q[2])\n",
    "qc_FTv2.h(q[3])\n",
    "qc_FTv2.cx(q[2],q[1])\n",
    "qc_FTv2.cx(q[3],q[4])\n",
    "qc_FTv2.h(q[4])\n",
    "qc_FTv2.extend(swap_circuit(q,[2,4],qprogram))\n",
    "qc_FTv2.cx(q[2],q[0])\n",
    "qc_FTv2.cx(q[1],q[0])\n",
    "qc_FTv2.h(q[4])\n",
    "qc_FTv2.measure(q[0],c[0])\n",
    "qc_FTv2.measure(q[1],c[1])\n",
    "qc_FTv2.measure(q[2],c[2])\n",
    "qc_FTv2.measure(q[3],c[3])\n",
    "qc_FTv2.measure(q[4],c[4])"
   ]
  },
  {
   "cell_type": "code",
   "execution_count": null,
   "metadata": {
    "collapsed": false,
    "deletable": true,
    "editable": true
   },
   "outputs": [],
   "source": [
    "def prep_bare_circuit(pair,qprogram, q, c):\n",
    "    qc_ppBare = qprogram.create_circuit(\"prep_Bare - \"+str(pair),[q],[c])\n",
    "    qc_ppBare.measure(q[pair[0]],c[pair[0]])\n",
    "    qc_ppBare.measure(q[pair[1]],c[pair[1]])\n",
    "    return qc_ppBare\n",
    "qc_ppBare = prep_bare_circuit(possible_pairs[cp],qprogram,q,c)"
   ]
  },
  {
   "cell_type": "code",
   "execution_count": null,
   "metadata": {
    "collapsed": false,
    "deletable": true,
    "editable": true
   },
   "outputs": [],
   "source": [
    "result = qprogram.execute([\"prep_FT\",\"prep_FTv2\",\"prep_NFTold\",\"prep_NFT\",\"prep_Bare - \"+str(possible_pairs[cp])], \"ibmqx4\", shots=8192, max_credits=5, wait=10, timeout=2400)"
   ]
  },
  {
   "cell_type": "code",
   "execution_count": null,
   "metadata": {
    "collapsed": false,
    "deletable": true,
    "editable": true
   },
   "outputs": [],
   "source": [
    "print(result.get_counts(\"prep_FT\"))\n",
    "print(result.get_counts(\"prep_FTv2\"))\n",
    "print(result.get_counts(\"prep_NFT\"))\n",
    "print(result.get_counts(\"prep_NFTold\"))\n",
    "print(result.get_counts(\"prep_Bare - \"+str(possible_pairs[cp])))"
   ]
  },
  {
   "cell_type": "code",
   "execution_count": null,
   "metadata": {
    "collapsed": false,
    "deletable": true,
    "editable": true
   },
   "outputs": [],
   "source": [
    "from qiskit.tools.visualization import plot_state, plot_histogram"
   ]
  },
  {
   "cell_type": "code",
   "execution_count": null,
   "metadata": {
    "collapsed": false,
    "deletable": true,
    "editable": true
   },
   "outputs": [],
   "source": [
    "plot_histogram(result.get_counts(\"prep_FT\"))\n",
    "plot_histogram(result.get_counts(\"prep_FTv2\"))\n",
    "plot_histogram(result.get_counts(\"prep_NFT\"))\n",
    "plot_histogram(result.get_counts(\"prep_NFTold\"))\n",
    "plot_histogram(result.get_counts(\"prep_Bare - \"+str(possible_pairs[cp])))"
   ]
  },
  {
   "cell_type": "code",
   "execution_count": null,
   "metadata": {
    "collapsed": false,
    "deletable": true,
    "editable": true
   },
   "outputs": [],
   "source": [
    "result.get_ran_qasm(\"prep_Bare\")"
   ]
  },
  {
   "cell_type": "code",
   "execution_count": null,
   "metadata": {
    "collapsed": false,
    "deletable": true,
    "editable": true
   },
   "outputs": [],
   "source": [
    "def encoded_X1_circuit(mapping, qp):\n",
    "    qrs = [qp.get_quantum_register(qrn) for qrn in qp.get_quantum_register_names()]\n",
    "    crs = [qp.get_classical_register(crn) for crn in qp.get_classical_register_names()]\n",
    "    qcircuit_encoded_X1 = qp.create_circuit(\"encoded_X1\",qrs,crs)\n",
    "    qcircuit_encoded_X1.x(qrs[0][mapping[0]])\n",
    "    qcircuit_encoded_X1.x(qrs[0][mapping[1]])\n",
    "    return qcircuit_encoded_X1\n",
    "def encoded_X2_circuit(qr, mapping, qp):\n",
    "    qcircuit_encoded_X2 = qp.create_circuit(\"encoded_X2\",[qr],[])\n",
    "    qcircuit_encoded_X2.x(qr[mapping[0]])\n",
    "    qcircuit_encoded_X2.x(qr[mapping[2]])\n",
    "    return qcircuit_encoded_X2\n",
    "def encoded_Z1_circuit(qr, mapping, qp):\n",
    "    qcircuit_encoded_Z1 = qp.create_circuit(\"encoded_Z1\",[qr],[])\n",
    "    qcircuit_encoded_Z1.z(qr[mapping[1]])\n",
    "    qcircuit_encoded_Z1.z(qr[mapping[3]])\n",
    "    return qcircuit_encoded_Z1\n",
    "def encoded_Z2_circuit(qr, mapping, qp):\n",
    "    qcircuit_encoded_Z2 = qp.create_circuit(\"encoded_Z2\",[qr],[])\n",
    "    qcircuit_encoded_Z2.z(qr[mapping[2]])\n",
    "    qcircuit_encoded_Z2.z(qr[mapping[3]])\n",
    "    return qcircuit_encoded_Z2\n",
    "def encoded_CZ_circuit(qr, mapping, qp):\n",
    "    qcircuit_encoded_CZ = qp.create_circuit(\"encoded_CZ\",[qr],[])\n",
    "    qcircuit_encoded_CZ.s(qr[mapping[0]])\n",
    "    qcircuit_encoded_CZ.s(qr[mapping[1]])\n",
    "    qcircuit_encoded_CZ.s(qr[mapping[2]])\n",
    "    qcircuit_encoded_CZ.s(qr[mapping[3]])\n",
    "    return qcircuit_encoded_CZ\n",
    "def encoded_HHS_circuit(qr, mapping, qp):\n",
    "    qcircuit_encoded_HHS = qp.create_circuit(\"encoded_HHS\",[qr],[])\n",
    "    qcircuit_encoded_HHS.h(qr[mapping[0]])\n",
    "    qcircuit_encoded_HHS.h(qr[mapping[1]])\n",
    "    qcircuit_encoded_HHS.h(qr[mapping[2]])\n",
    "    qcircuit_encoded_HHS.h(qr[mapping[3]])\n",
    "    return qcircuit_encoded_HHS"
   ]
  },
  {
   "cell_type": "code",
   "execution_count": null,
   "metadata": {
    "collapsed": false,
    "deletable": true,
    "editable": true
   },
   "outputs": [],
   "source": [
    "encoded_X1_circuit([0,1],qprogram).qasm()"
   ]
  },
  {
   "cell_type": "code",
   "execution_count": null,
   "metadata": {
    "collapsed": false,
    "deletable": true,
    "editable": true
   },
   "outputs": [],
   "source": [
    "#print(qprogram.compile([\"prep_FT\"],backend=\"ibmqx4\")['circuits'][0]['compiled_circuit_qasm'])"
   ]
  },
  {
   "cell_type": "code",
   "execution_count": null,
   "metadata": {
    "collapsed": false,
    "deletable": true,
    "editable": true
   },
   "outputs": [],
   "source": [
    "import csv\n",
    "\n",
    "with open('mycsvfile5.csv', 'w') as f:  # Just use 'w' mode in 3.x\n",
    "    w = csv.DictWriter(f, result.get_counts(\"prep_FT\").keys())\n",
    "    w.writeheader()\n",
    "    w.writerows([result.get_counts(\"prep_FT\"),result.get_counts(\"prep_FTv2\"),result.get_counts(\"prep_NFT\"),result.get_counts(\"prep_NFTold\"),result.get_counts(\"prep_Bare - \"+str(possible_pairs[cp]))])"
   ]
  },
  {
   "cell_type": "code",
   "execution_count": null,
   "metadata": {
    "collapsed": false,
    "deletable": true,
    "editable": true
   },
   "outputs": [],
   "source": [
    "print(result.get_ran_qasm(\"prep_FT\") + '\\n')\n",
    "print(result.get_ran_qasm(\"prep_FTv2\") + '\\n')\n",
    "print(result.get_ran_qasm(\"prep_NFT\") + '\\n')\n",
    "print(result.get_ran_qasm(\"prep_NFTold\") + '\\n')\n",
    "print(result.get_ran_qasm(\"prep_Bare - \"+str(possible_pairs[cp])) + '\\n')"
   ]
  },
  {
   "cell_type": "code",
   "execution_count": null,
   "metadata": {
    "collapsed": false,
    "deletable": true,
    "editable": true
   },
   "outputs": [],
   "source": [
    "def convert_rate(rT, rG):\n",
    "    if rT['unit']=='ns':\n",
    "        mT = 10**(-9)\n",
    "    elif rT['unit']=='µs':\n",
    "        mT = 10**(-6)\n",
    "    else:\n",
    "        mT = 1\n",
    "    if rG['unit']=='ns':\n",
    "        mG = 10**(-9)\n",
    "    elif rG['unit']=='µs':\n",
    "        mG = 10**(-6)\n",
    "    else:\n",
    "        mG = 1\n",
    "    return 1-np.exp(-rG['value']*mG/(rT['value']*mT))\n",
    "        \n",
    "\n",
    "def rank_qubit_pairs(qp,backend):\n",
    "    config = qp.get_backend_configuration(backend,list_format=True)\n",
    "    calib = qp.get_backend_calibration(backend)\n",
    "    param = qp.get_backend_parameters(backend)\n",
    "    n = config['n_qubits']\n",
    "    pairs_numbers = dict([(tuple(c),[]) for c in config['coupling_map']])\n",
    "    for p,s in pairs_numbers.items():\n",
    "        s.append(calib['qubits'][p[0]]['gateError']['value'])\n",
    "        s.append(calib['qubits'][p[0]]['readoutError']['value'])\n",
    "        s.append(calib['qubits'][p[1]]['gateError']['value'])\n",
    "        s.append(calib['qubits'][p[1]]['readoutError']['value'])\n",
    "        for r in calib['multi_qubit_gates']:\n",
    "            if r['qubits']==list(p):\n",
    "                s.append(r['gateError']['value'])\n",
    "        s.append(convert_rate(param['qubits'][p[0]]['T1'],param['qubits'][p[0]]['gateTime']))\n",
    "        s.append(convert_rate(param['qubits'][p[0]]['T2'],param['qubits'][p[0]]['gateTime']))\n",
    "        s.append(convert_rate(param['qubits'][p[1]]['T1'],param['qubits'][p[1]]['gateTime']))\n",
    "        s.append(convert_rate(param['qubits'][p[1]]['T2'],param['qubits'][p[1]]['gateTime']))\n",
    "    for p,s in pairs_numbers.items():\n",
    "        pairs_numbers[p] = sorted(s,reverse=True)\n",
    "    return (sorted(pairs_numbers,key=pairs_numbers.__getitem__),pairs_numbers)\n",
    "\n",
    "        \n",
    "        \n",
    "    \n",
    "    \n",
    "    \n",
    "    \n",
    "\n",
    "\n",
    "    "
   ]
  },
  {
   "cell_type": "code",
   "execution_count": null,
   "metadata": {
    "collapsed": false,
    "deletable": true,
    "editable": true
   },
   "outputs": [],
   "source": [
    "(sorted_pairs,pairs_dict) = rank_qubit_pairs(qprogram,\"ibmqx4\")"
   ]
  },
  {
   "cell_type": "code",
   "execution_count": null,
   "metadata": {
    "collapsed": false
   },
   "outputs": [],
   "source": [
    "sorted_pairs"
   ]
  },
  {
   "cell_type": "code",
   "execution_count": null,
   "metadata": {
    "collapsed": false,
    "deletable": true,
    "editable": true
   },
   "outputs": [],
   "source": [
    "bare_programs_list = []\n",
    "bare_program_names_list = []\n",
    "for p in sorted_pairs:\n",
    "    bare_programs_list.append(prep_bare_circuit(p,qprogram,q,c))\n",
    "    bare_program_names_list.append(\"prep_Bare - \"+str(p))\n"
   ]
  },
  {
   "cell_type": "code",
   "execution_count": null,
   "metadata": {
    "collapsed": false,
    "deletable": true,
    "editable": true
   },
   "outputs": [],
   "source": [
    "bare_program_names_list"
   ]
  },
  {
   "cell_type": "code",
   "execution_count": null,
   "metadata": {
    "collapsed": true,
    "deletable": true,
    "editable": true
   },
   "outputs": [],
   "source": [
    "result_bare = qprogram.execute(bare_program_names_list, \"ibmqx4\", shots=8192, max_credits=5, wait=10, timeout=2400)"
   ]
  },
  {
   "cell_type": "code",
   "execution_count": null,
   "metadata": {
    "collapsed": false,
    "deletable": true,
    "editable": true
   },
   "outputs": [],
   "source": [
    "with open('mycsvfile_bare2.csv', 'w') as f:  # Just use 'w' mode in 3.x\n",
    "    w = csv.DictWriter(f, [('{0:0'+str(n)+'b}').format(j) for j in range(0,2**n)])\n",
    "    w.writeheader()\n",
    "    w.writerows([result_bare.get_counts(name) for name in bare_program_names_list])"
   ]
  },
  {
   "cell_type": "code",
   "execution_count": null,
   "metadata": {
    "collapsed": false,
    "deletable": true,
    "editable": true
   },
   "outputs": [],
   "source": []
  },
  {
   "cell_type": "code",
   "execution_count": null,
   "metadata": {
    "collapsed": false,
    "deletable": true,
    "editable": true
   },
   "outputs": [],
   "source": [
    "[('{0:0'+str(n)+'b}').format(j) for j in range(0,2**n)]"
   ]
  },
  {
   "cell_type": "code",
   "execution_count": null,
   "metadata": {
    "collapsed": false,
    "deletable": true,
    "editable": true
   },
   "outputs": [],
   "source": [
    "qprogram.get_circuit_names()"
   ]
  },
  {
   "cell_type": "code",
   "execution_count": null,
   "metadata": {
    "collapsed": false,
    "deletable": true,
    "editable": true
   },
   "outputs": [],
   "source": [
    "qcircuit = QuantumCircuit(q,c)"
   ]
  },
  {
   "cell_type": "code",
   "execution_count": null,
   "metadata": {
    "collapsed": false,
    "deletable": true,
    "editable": true
   },
   "outputs": [],
   "source": [
    "qcircuit.get_cregs()"
   ]
  },
  {
   "cell_type": "code",
   "execution_count": null,
   "metadata": {
    "collapsed": false,
    "deletable": true,
    "editable": true
   },
   "outputs": [],
   "source": [
    "qcircuit.x(q[0])"
   ]
  },
  {
   "cell_type": "code",
   "execution_count": null,
   "metadata": {
    "collapsed": false,
    "deletable": true,
    "editable": true
   },
   "outputs": [],
   "source": [
    "qcircuit.qasm()"
   ]
  },
  {
   "cell_type": "code",
   "execution_count": null,
   "metadata": {
    "collapsed": false,
    "deletable": true,
    "editable": true
   },
   "outputs": [],
   "source": [
    "qcircuit.extend(qc_FT)"
   ]
  },
  {
   "cell_type": "code",
   "execution_count": null,
   "metadata": {
    "collapsed": false,
    "deletable": true,
    "editable": true
   },
   "outputs": [],
   "source": [
    "list(qprogram.get_classical_register_names())[0]"
   ]
  },
  {
   "cell_type": "code",
   "execution_count": null,
   "metadata": {
    "collapsed": true,
    "deletable": true,
    "editable": true
   },
   "outputs": [],
   "source": []
  },
  {
   "cell_type": "code",
   "execution_count": null,
   "metadata": {
    "collapsed": false
   },
   "outputs": [],
   "source": []
  },
  {
   "cell_type": "code",
   "execution_count": null,
   "metadata": {
    "collapsed": false
   },
   "outputs": [],
   "source": []
  },
  {
   "cell_type": "code",
   "execution_count": null,
   "metadata": {
    "collapsed": false
   },
   "outputs": [],
   "source": []
  },
  {
   "cell_type": "code",
   "execution_count": null,
   "metadata": {
    "collapsed": false
   },
   "outputs": [],
   "source": [
    "qprogram.get_circuit_names()"
   ]
  },
  {
   "cell_type": "code",
   "execution_count": null,
   "metadata": {
    "collapsed": false
   },
   "outputs": [],
   "source": [
    "lcircuit = [encoded_CZ_circuit,encoded_HHS_circuit,encoded_X1_circuit,encoded_X2_circuit,encoded_Z1_circuit,encoded_Z2_circuit]\n",
    "dcircuit = {'ECZ' : encoded_CZ_circuit, 'EHHS' : encoded_HHS_circuit, 'EX1' : encoded_X1_circuit, 'EX2' : encoded_X2_circuit, 'EZ1' : encoded_Z1_circuit, 'EZ2' : encoded_Z2_circuit}"
   ]
  },
  {
   "cell_type": "code",
   "execution_count": null,
   "metadata": {
    "collapsed": false
   },
   "outputs": [],
   "source": [
    "dcircuit['EX1']([1,2,3,4],qprogram).qasm()"
   ]
  },
  {
   "cell_type": "code",
   "execution_count": null,
   "metadata": {
    "collapsed": false
   },
   "outputs": [],
   "source": [
    "'-'.join(reversed(['h','u','a']))"
   ]
  },
  {
   "cell_type": "code",
   "execution_count": null,
   "metadata": {
    "collapsed": false
   },
   "outputs": [],
   "source": [
    "import tools.Experiment_tools"
   ]
  },
  {
   "cell_type": "code",
   "execution_count": null,
   "metadata": {
    "collapsed": true
   },
   "outputs": [],
   "source": []
  }
 ],
 "metadata": {
  "kernelspec": {
   "display_name": "Python 3",
   "language": "python",
   "name": "python3"
  },
  "language_info": {
   "codemirror_mode": {
    "name": "ipython",
    "version": 3
   },
   "file_extension": ".py",
   "mimetype": "text/x-python",
   "name": "python",
   "nbconvert_exporter": "python",
   "pygments_lexer": "ipython3",
   "version": "3.6.2"
  }
 },
 "nbformat": 4,
 "nbformat_minor": 2
}
