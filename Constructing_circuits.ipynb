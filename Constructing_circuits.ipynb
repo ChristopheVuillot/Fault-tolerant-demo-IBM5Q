{
 "cells": [
  {
   "cell_type": "code",
   "execution_count": 2,
   "metadata": {
    "collapsed": true,
    "deletable": true,
    "editable": true
   },
   "outputs": [],
   "source": [
    "import time\n",
    "import random"
   ]
  },
  {
   "cell_type": "code",
   "execution_count": 3,
   "metadata": {
    "collapsed": false,
    "deletable": true,
    "editable": true
   },
   "outputs": [],
   "source": [
    "from qiskit import QuantumProgram\n",
    "import Qconfig"
   ]
  },
  {
   "cell_type": "code",
   "execution_count": 5,
   "metadata": {
    "collapsed": false,
    "deletable": true,
    "editable": true
   },
   "outputs": [],
   "source": [
    "qp = QuantumProgram()\n",
    "qp.set_api(Qconfig.APItoken, Qconfig.config[\"url\"])"
   ]
  },
  {
   "cell_type": "code",
   "execution_count": 7,
   "metadata": {
    "collapsed": false
   },
   "outputs": [
    {
     "data": {
      "text/plain": [
       "['ibmqx3',\n",
       " 'ibmqx2',\n",
       " 'ibmqx_qasm_simulator',\n",
       " 'local_qasm_simulator',\n",
       " 'local_unitary_simulator']"
      ]
     },
     "execution_count": 7,
     "metadata": {},
     "output_type": "execute_result"
    }
   ],
   "source": [
    "qp.available_backends()"
   ]
  },
  {
   "cell_type": "code",
   "execution_count": 44,
   "metadata": {
    "collapsed": false
   },
   "outputs": [
    {
     "data": {
      "text/plain": [
       "{'available': False, 'busy': False, 'pending_jobs': 1559}"
      ]
     },
     "execution_count": 44,
     "metadata": {},
     "output_type": "execute_result"
    }
   ],
   "source": [
    "qp.get_backend_status(\"ibmqx2\")"
   ]
  },
  {
   "cell_type": "code",
   "execution_count": 52,
   "metadata": {
    "collapsed": false
   },
   "outputs": [
    {
     "data": {
      "text/plain": [
       "{'basis_gates': 'u1,u2,u3,cx,id',\n",
       " 'chip_name': 'Sparrow',\n",
       " 'coupling_map': [[0, 1], [0, 2], [1, 2], [3, 2], [3, 4], [4, 2]],\n",
       " 'description': '5 transmon bowtie',\n",
       " 'n_qubits': 5,\n",
       " 'name': 'ibmqx2',\n",
       " 'online_date': '2017-01-10T12:00:00.000Z',\n",
       " 'simulator': False,\n",
       " 'url': 'https://ibm.biz/qiskit-ibmqx2',\n",
       " 'version': '1'}"
      ]
     },
     "execution_count": 52,
     "metadata": {},
     "output_type": "execute_result"
    }
   ],
   "source": [
    "config = qp.get_backend_configuration(\"ibmqx2\",list_format=True)\n",
    "config"
   ]
  },
  {
   "cell_type": "code",
   "execution_count": 56,
   "metadata": {
    "collapsed": false
   },
   "outputs": [
    {
     "name": "stdout",
     "output_type": "stream",
     "text": [
      "Gate error :\n",
      "------------\n",
      "[0.0013737021608475342, 0.0013737021608475342, 0.0024043886349084387, 0.001889001411209068, 0.00197489316929661]\n",
      "\n",
      "Readout error :\n",
      "---------------\n",
      "[0.05, 0.07, 0.03, 0.056, 0.053]\n",
      "Multi qubit gate error :\n",
      "------------\n",
      "[0.030172186236362503, 0.02439953511237683, 0.0336469083512502, 0.049009587345366284, 0.03241957543776744, 0.031193291229275444]\n"
     ]
    }
   ],
   "source": [
    "calib = qp.get_backend_calibration(\"ibmqx2\")\n",
    "print('Gate error :\\n------------')\n",
    "print([item['gateError']['value'] for item in calib['qubits']])\n",
    "print('\\nReadout error :\\n---------------')\n",
    "print([item['readoutError']['value'] for item in calib['qubits']])\n",
    "print('Multi qubit gate error :\\n------------')\n",
    "print([item['gateError']['value'] for item in calib['multi_qubit_gates']])"
   ]
  },
  {
   "cell_type": "code",
   "execution_count": 55,
   "metadata": {
    "collapsed": false
   },
   "outputs": [
    {
     "name": "stdout",
     "output_type": "stream",
     "text": [
      "T1:\n",
      "---\n",
      "[(46.9, 'µs'), (28.3, 'µs'), (59.9, 'µs'), (50.5, 'µs'), (67.5, 'µs')]\n",
      "\n",
      "T2:\n",
      "---\n",
      "[(44.4, 'µs'), (27.4, 'µs'), (98.6, 'µs'), (57.7, 'µs'), (98.8, 'µs')]\n"
     ]
    }
   ],
   "source": [
    "param = qp.get_backend_parameters(\"ibmqx2\")\n",
    "print('T1:\\n---')\n",
    "print([(item['T1']['value'],item['T1']['unit']) for item in param['qubits']])\n",
    "print('\\nT2:\\n---')\n",
    "print([(item['T2']['value'],item['T2']['unit']) for item in param['qubits']])"
   ]
  },
  {
   "cell_type": "code",
   "execution_count": null,
   "metadata": {
    "collapsed": true
   },
   "outputs": [],
   "source": [
    "# Find a reasonable formula to automatically choose the best two qubits."
   ]
  },
  {
   "cell_type": "code",
   "execution_count": 46,
   "metadata": {
    "collapsed": false
   },
   "outputs": [],
   "source": [
    "possible_pairs = config['coupling_map']\n",
    "cp = 1 #the chosen pair"
   ]
  },
  {
   "cell_type": "code",
   "execution_count": null,
   "metadata": {
    "collapsed": false,
    "deletable": true,
    "editable": true
   },
   "outputs": [],
   "source": []
  },
  {
   "cell_type": "code",
   "execution_count": null,
   "metadata": {
    "collapsed": true
   },
   "outputs": [],
   "source": []
  }
 ],
 "metadata": {
  "kernelspec": {
   "display_name": "Python 3",
   "language": "python",
   "name": "python3"
  },
  "language_info": {
   "codemirror_mode": {
    "name": "ipython",
    "version": 3
   },
   "file_extension": ".py",
   "mimetype": "text/x-python",
   "name": "python",
   "nbconvert_exporter": "python",
   "pygments_lexer": "ipython3",
   "version": "3.6.2"
  }
 },
 "nbformat": 4,
 "nbformat_minor": 2
}
